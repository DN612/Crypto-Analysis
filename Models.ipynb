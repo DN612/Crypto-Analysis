{
 "cells": [
  {
   "cell_type": "code",
   "execution_count": 1,
   "metadata": {},
   "outputs": [
    {
     "name": "stderr",
     "output_type": "stream",
     "text": [
      "\n",
      "Attaching package: 'lubridate'\n",
      "\n",
      "\n",
      "The following objects are masked from 'package:base':\n",
      "\n",
      "    date, intersect, setdiff, union\n",
      "\n",
      "\n",
      "\n",
      "Attaching package: 'dplyr'\n",
      "\n",
      "\n",
      "The following objects are masked from 'package:stats':\n",
      "\n",
      "    filter, lag\n",
      "\n",
      "\n",
      "The following objects are masked from 'package:base':\n",
      "\n",
      "    intersect, setdiff, setequal, union\n",
      "\n",
      "\n",
      "\n",
      "Attaching package: 'zoo'\n",
      "\n",
      "\n",
      "The following objects are masked from 'package:base':\n",
      "\n",
      "    as.Date, as.Date.numeric\n",
      "\n",
      "\n",
      "Loading required package: Matrix\n",
      "\n",
      "Loaded glmnet 4.1-4\n",
      "\n",
      "randomForest 4.7-1\n",
      "\n",
      "Type rfNews() to see new features/changes/bug fixes.\n",
      "\n",
      "\n",
      "Attaching package: 'randomForest'\n",
      "\n",
      "\n",
      "The following object is masked from 'package:ggplot2':\n",
      "\n",
      "    margin\n",
      "\n",
      "\n",
      "The following object is masked from 'package:dplyr':\n",
      "\n",
      "    combine\n",
      "\n",
      "\n"
     ]
    }
   ],
   "source": [
    "options(warn = -1)\n",
    "library(lubridate)\n",
    "library(dplyr)\n",
    "library(stringr)\n",
    "library(zoo)\n",
    "library(ggplot2)\n",
    "library('reshape2')\n",
    "library('glmnet')\n",
    "library(randomForest)\n",
    "library(reshape2)"
   ]
  },
  {
   "cell_type": "code",
   "execution_count": 2,
   "metadata": {},
   "outputs": [],
   "source": [
    "df_all = read.csv(\"FullDataset.csv\")"
   ]
  },
  {
   "cell_type": "code",
   "execution_count": null,
   "metadata": {},
   "outputs": [],
   "source": []
  },
  {
   "cell_type": "code",
   "execution_count": 3,
   "metadata": {},
   "outputs": [],
   "source": [
    "df_all[df_all == 0] <- NA"
   ]
  },
  {
   "cell_type": "code",
   "execution_count": 4,
   "metadata": {},
   "outputs": [
    {
     "data": {
      "text/html": [
       "<table class=\"dataframe\">\n",
       "<caption>A data.frame: 6 × 33</caption>\n",
       "<thead>\n",
       "\t<tr><th></th><th scope=col>Annual.Hash.Growth</th><th scope=col>Block.Height</th><th scope=col>Block.Interval</th><th scope=col>Block.Size</th><th scope=col>Daily.Transactions</th><th scope=col>Difficulty</th><th scope=col>Fee.Percentage</th><th scope=col>Fee.Rate</th><th scope=col>Two.Week.Hash.Growth</th><th scope=col>Hash.Rate</th><th scope=col>...</th><th scope=col>GDX.US.Equity</th><th scope=col>SHCOMP.Index</th><th scope=col>TWSE.Index</th><th scope=col>ADS_Index</th><th scope=col>Google.trends</th><th scope=col>Lumber.prices</th><th scope=col>WTI.Oil</th><th scope=col>Sentiment.Score</th><th scope=col>label</th><th scope=col>std_BTC_returns</th></tr>\n",
       "\t<tr><th></th><th scope=col>&lt;dbl&gt;</th><th scope=col>&lt;dbl&gt;</th><th scope=col>&lt;dbl&gt;</th><th scope=col>&lt;dbl&gt;</th><th scope=col>&lt;dbl&gt;</th><th scope=col>&lt;dbl&gt;</th><th scope=col>&lt;dbl&gt;</th><th scope=col>&lt;dbl&gt;</th><th scope=col>&lt;dbl&gt;</th><th scope=col>&lt;dbl&gt;</th><th scope=col>...</th><th scope=col>&lt;dbl&gt;</th><th scope=col>&lt;dbl&gt;</th><th scope=col>&lt;dbl&gt;</th><th scope=col>&lt;dbl&gt;</th><th scope=col>&lt;dbl&gt;</th><th scope=col>&lt;dbl&gt;</th><th scope=col>&lt;dbl&gt;</th><th scope=col>&lt;dbl&gt;</th><th scope=col>&lt;dbl&gt;</th><th scope=col>&lt;dbl&gt;</th></tr>\n",
       "</thead>\n",
       "<tbody>\n",
       "\t<tr><th scope=row>13/01/2015</th><td>-0.022780113</td><td>0.000419409</td><td> 0.09836066</td><td> 0.18778708</td><td> 0.12220541</td><td>0.08195445</td><td> 1.98610114</td><td> 1.26923077</td><td> 0.1025754</td><td>-0.002265071</td><td>...</td><td>-0.04374128</td><td> 0.001853334</td><td> 0.005828966</td><td>0.02299408</td><td> 0.36170213</td><td>-0.005050505</td><td>-0.003907098</td><td>0.0001</td><td>-12.232393</td><td> 1.948498</td></tr>\n",
       "\t<tr><th scope=row>14/01/2015</th><td>-0.040559036</td><td>0.000374948</td><td> 0.12935323</td><td> 0.15985463</td><td>-0.02503643</td><td>0.08195445</td><td>-0.73362366</td><td>-0.55932203</td><td> 1.1608013</td><td>-0.019787663</td><td>...</td><td>-0.01167883</td><td>-0.003976137</td><td>-0.005586126</td><td>0.02230177</td><td> 0.56250000</td><td>-0.000634518</td><td> 0.058531270</td><td>0.6249</td><td>-20.573837</td><td> 5.131537</td></tr>\n",
       "\t<tr><th scope=row>15/01/2015</th><td>-0.011227970</td><td>0.000427929</td><td>-0.13950073</td><td>-0.06433805</td><td> 0.08916608</td><td>0.08195445</td><td>-0.25040139</td><td>-0.03846154</td><td>-0.2450274</td><td> 0.016551605</td><td>...</td><td> 0.05760709</td><td> 0.035382538</td><td>-0.001649196</td><td>0.02164933</td><td>-0.16000000</td><td>-0.001587302</td><td>-0.043931159</td><td>0.0001</td><td> 10.537035</td><td> 8.309523</td></tr>\n",
       "\t<tr><th scope=row>16/01/2015</th><td>-0.002357966</td><td>0.000445446</td><td>-0.03242321</td><td>-0.02199099</td><td> 0.11829603</td><td>0.08195445</td><td> 0.05269156</td><td> 0.08000000</td><td>-0.1233202</td><td> 0.015791939</td><td>...</td><td> 0.03165736</td><td> 0.012000761</td><td>-0.002924139</td><td>0.02103097</td><td>-0.16666667</td><td>-0.008267091</td><td> 0.054088971</td><td>0.0001</td><td>  1.299457</td><td>11.827200</td></tr>\n",
       "\t<tr><th scope=row>17/01/2015</th><td> 0.006986954</td><td>0.000409864</td><td> 0.08465609</td><td>-0.05564855</td><td>-0.12462024</td><td>0.08195445</td><td> 0.10648997</td><td>-0.03703704</td><td> 0.1706343</td><td> 0.009865780</td><td>...</td><td> 0.03165736</td><td> 0.012000761</td><td>-0.002924139</td><td>0.02103097</td><td>-0.18571429</td><td>-0.008267091</td><td> 0.054088971</td><td>0.0001</td><td> -3.666475</td><td>12.192678</td></tr>\n",
       "\t<tr><th scope=row>18/01/2015</th><td>-0.004395740</td><td>0.000406748</td><td> 0.01788618</td><td>-0.03218582</td><td>-0.15567167</td><td>0.08195445</td><td> 0.62536206</td><td>-0.03846154</td><td> 0.2578415</td><td> 0.002171404</td><td>...</td><td> 0.03165736</td><td> 0.012000761</td><td>-0.002924139</td><td>0.02103097</td><td>-0.05263158</td><td>-0.008267091</td><td> 0.054088971</td><td>0.0001</td><td>  3.681805</td><td>12.017553</td></tr>\n",
       "</tbody>\n",
       "</table>\n"
      ],
      "text/latex": [
       "A data.frame: 6 × 33\n",
       "\\begin{tabular}{r|lllllllllllllllllllll}\n",
       "  & Annual.Hash.Growth & Block.Height & Block.Interval & Block.Size & Daily.Transactions & Difficulty & Fee.Percentage & Fee.Rate & Two.Week.Hash.Growth & Hash.Rate & ... & GDX.US.Equity & SHCOMP.Index & TWSE.Index & ADS\\_Index & Google.trends & Lumber.prices & WTI.Oil & Sentiment.Score & label & std\\_BTC\\_returns\\\\\n",
       "  & <dbl> & <dbl> & <dbl> & <dbl> & <dbl> & <dbl> & <dbl> & <dbl> & <dbl> & <dbl> & ... & <dbl> & <dbl> & <dbl> & <dbl> & <dbl> & <dbl> & <dbl> & <dbl> & <dbl> & <dbl>\\\\\n",
       "\\hline\n",
       "\t13/01/2015 & -0.022780113 & 0.000419409 &  0.09836066 &  0.18778708 &  0.12220541 & 0.08195445 &  1.98610114 &  1.26923077 &  0.1025754 & -0.002265071 & ... & -0.04374128 &  0.001853334 &  0.005828966 & 0.02299408 &  0.36170213 & -0.005050505 & -0.003907098 & 0.0001 & -12.232393 &  1.948498\\\\\n",
       "\t14/01/2015 & -0.040559036 & 0.000374948 &  0.12935323 &  0.15985463 & -0.02503643 & 0.08195445 & -0.73362366 & -0.55932203 &  1.1608013 & -0.019787663 & ... & -0.01167883 & -0.003976137 & -0.005586126 & 0.02230177 &  0.56250000 & -0.000634518 &  0.058531270 & 0.6249 & -20.573837 &  5.131537\\\\\n",
       "\t15/01/2015 & -0.011227970 & 0.000427929 & -0.13950073 & -0.06433805 &  0.08916608 & 0.08195445 & -0.25040139 & -0.03846154 & -0.2450274 &  0.016551605 & ... &  0.05760709 &  0.035382538 & -0.001649196 & 0.02164933 & -0.16000000 & -0.001587302 & -0.043931159 & 0.0001 &  10.537035 &  8.309523\\\\\n",
       "\t16/01/2015 & -0.002357966 & 0.000445446 & -0.03242321 & -0.02199099 &  0.11829603 & 0.08195445 &  0.05269156 &  0.08000000 & -0.1233202 &  0.015791939 & ... &  0.03165736 &  0.012000761 & -0.002924139 & 0.02103097 & -0.16666667 & -0.008267091 &  0.054088971 & 0.0001 &   1.299457 & 11.827200\\\\\n",
       "\t17/01/2015 &  0.006986954 & 0.000409864 &  0.08465609 & -0.05564855 & -0.12462024 & 0.08195445 &  0.10648997 & -0.03703704 &  0.1706343 &  0.009865780 & ... &  0.03165736 &  0.012000761 & -0.002924139 & 0.02103097 & -0.18571429 & -0.008267091 &  0.054088971 & 0.0001 &  -3.666475 & 12.192678\\\\\n",
       "\t18/01/2015 & -0.004395740 & 0.000406748 &  0.01788618 & -0.03218582 & -0.15567167 & 0.08195445 &  0.62536206 & -0.03846154 &  0.2578415 &  0.002171404 & ... &  0.03165736 &  0.012000761 & -0.002924139 & 0.02103097 & -0.05263158 & -0.008267091 &  0.054088971 & 0.0001 &   3.681805 & 12.017553\\\\\n",
       "\\end{tabular}\n"
      ],
      "text/markdown": [
       "\n",
       "A data.frame: 6 × 33\n",
       "\n",
       "| <!--/--> | Annual.Hash.Growth &lt;dbl&gt; | Block.Height &lt;dbl&gt; | Block.Interval &lt;dbl&gt; | Block.Size &lt;dbl&gt; | Daily.Transactions &lt;dbl&gt; | Difficulty &lt;dbl&gt; | Fee.Percentage &lt;dbl&gt; | Fee.Rate &lt;dbl&gt; | Two.Week.Hash.Growth &lt;dbl&gt; | Hash.Rate &lt;dbl&gt; | ... ... | GDX.US.Equity &lt;dbl&gt; | SHCOMP.Index &lt;dbl&gt; | TWSE.Index &lt;dbl&gt; | ADS_Index &lt;dbl&gt; | Google.trends &lt;dbl&gt; | Lumber.prices &lt;dbl&gt; | WTI.Oil &lt;dbl&gt; | Sentiment.Score &lt;dbl&gt; | label &lt;dbl&gt; | std_BTC_returns &lt;dbl&gt; |\n",
       "|---|---|---|---|---|---|---|---|---|---|---|---|---|---|---|---|---|---|---|---|---|---|\n",
       "| 13/01/2015 | -0.022780113 | 0.000419409 |  0.09836066 |  0.18778708 |  0.12220541 | 0.08195445 |  1.98610114 |  1.26923077 |  0.1025754 | -0.002265071 | ... | -0.04374128 |  0.001853334 |  0.005828966 | 0.02299408 |  0.36170213 | -0.005050505 | -0.003907098 | 0.0001 | -12.232393 |  1.948498 |\n",
       "| 14/01/2015 | -0.040559036 | 0.000374948 |  0.12935323 |  0.15985463 | -0.02503643 | 0.08195445 | -0.73362366 | -0.55932203 |  1.1608013 | -0.019787663 | ... | -0.01167883 | -0.003976137 | -0.005586126 | 0.02230177 |  0.56250000 | -0.000634518 |  0.058531270 | 0.6249 | -20.573837 |  5.131537 |\n",
       "| 15/01/2015 | -0.011227970 | 0.000427929 | -0.13950073 | -0.06433805 |  0.08916608 | 0.08195445 | -0.25040139 | -0.03846154 | -0.2450274 |  0.016551605 | ... |  0.05760709 |  0.035382538 | -0.001649196 | 0.02164933 | -0.16000000 | -0.001587302 | -0.043931159 | 0.0001 |  10.537035 |  8.309523 |\n",
       "| 16/01/2015 | -0.002357966 | 0.000445446 | -0.03242321 | -0.02199099 |  0.11829603 | 0.08195445 |  0.05269156 |  0.08000000 | -0.1233202 |  0.015791939 | ... |  0.03165736 |  0.012000761 | -0.002924139 | 0.02103097 | -0.16666667 | -0.008267091 |  0.054088971 | 0.0001 |   1.299457 | 11.827200 |\n",
       "| 17/01/2015 |  0.006986954 | 0.000409864 |  0.08465609 | -0.05564855 | -0.12462024 | 0.08195445 |  0.10648997 | -0.03703704 |  0.1706343 |  0.009865780 | ... |  0.03165736 |  0.012000761 | -0.002924139 | 0.02103097 | -0.18571429 | -0.008267091 |  0.054088971 | 0.0001 |  -3.666475 | 12.192678 |\n",
       "| 18/01/2015 | -0.004395740 | 0.000406748 |  0.01788618 | -0.03218582 | -0.15567167 | 0.08195445 |  0.62536206 | -0.03846154 |  0.2578415 |  0.002171404 | ... |  0.03165736 |  0.012000761 | -0.002924139 | 0.02103097 | -0.05263158 | -0.008267091 |  0.054088971 | 0.0001 |   3.681805 | 12.017553 |\n",
       "\n"
      ],
      "text/plain": [
       "           Annual.Hash.Growth Block.Height Block.Interval Block.Size \n",
       "13/01/2015 -0.022780113       0.000419409   0.09836066     0.18778708\n",
       "14/01/2015 -0.040559036       0.000374948   0.12935323     0.15985463\n",
       "15/01/2015 -0.011227970       0.000427929  -0.13950073    -0.06433805\n",
       "16/01/2015 -0.002357966       0.000445446  -0.03242321    -0.02199099\n",
       "17/01/2015  0.006986954       0.000409864   0.08465609    -0.05564855\n",
       "18/01/2015 -0.004395740       0.000406748   0.01788618    -0.03218582\n",
       "           Daily.Transactions Difficulty Fee.Percentage Fee.Rate   \n",
       "13/01/2015  0.12220541        0.08195445  1.98610114     1.26923077\n",
       "14/01/2015 -0.02503643        0.08195445 -0.73362366    -0.55932203\n",
       "15/01/2015  0.08916608        0.08195445 -0.25040139    -0.03846154\n",
       "16/01/2015  0.11829603        0.08195445  0.05269156     0.08000000\n",
       "17/01/2015 -0.12462024        0.08195445  0.10648997    -0.03703704\n",
       "18/01/2015 -0.15567167        0.08195445  0.62536206    -0.03846154\n",
       "           Two.Week.Hash.Growth Hash.Rate    ... GDX.US.Equity SHCOMP.Index\n",
       "13/01/2015  0.1025754           -0.002265071 ... -0.04374128    0.001853334\n",
       "14/01/2015  1.1608013           -0.019787663 ... -0.01167883   -0.003976137\n",
       "15/01/2015 -0.2450274            0.016551605 ...  0.05760709    0.035382538\n",
       "16/01/2015 -0.1233202            0.015791939 ...  0.03165736    0.012000761\n",
       "17/01/2015  0.1706343            0.009865780 ...  0.03165736    0.012000761\n",
       "18/01/2015  0.2578415            0.002171404 ...  0.03165736    0.012000761\n",
       "           TWSE.Index   ADS_Index  Google.trends Lumber.prices WTI.Oil     \n",
       "13/01/2015  0.005828966 0.02299408  0.36170213   -0.005050505  -0.003907098\n",
       "14/01/2015 -0.005586126 0.02230177  0.56250000   -0.000634518   0.058531270\n",
       "15/01/2015 -0.001649196 0.02164933 -0.16000000   -0.001587302  -0.043931159\n",
       "16/01/2015 -0.002924139 0.02103097 -0.16666667   -0.008267091   0.054088971\n",
       "17/01/2015 -0.002924139 0.02103097 -0.18571429   -0.008267091   0.054088971\n",
       "18/01/2015 -0.002924139 0.02103097 -0.05263158   -0.008267091   0.054088971\n",
       "           Sentiment.Score label      std_BTC_returns\n",
       "13/01/2015 0.0001          -12.232393  1.948498      \n",
       "14/01/2015 0.6249          -20.573837  5.131537      \n",
       "15/01/2015 0.0001           10.537035  8.309523      \n",
       "16/01/2015 0.0001            1.299457 11.827200      \n",
       "17/01/2015 0.0001           -3.666475 12.192678      \n",
       "18/01/2015 0.0001            3.681805 12.017553      "
      ]
     },
     "metadata": {},
     "output_type": "display_data"
    }
   ],
   "source": [
    "df_all = na.locf(df_all)\n",
    "rownames(df_all) = df_all$X\n",
    "drops <- c('X')\n",
    "df_all = df_all[ , !(names(df_all) %in% drops)]\n",
    "df = df_all[-ncol(df_all)]\n",
    "head(df)"
   ]
  },
  {
   "cell_type": "code",
   "execution_count": 5,
   "metadata": {},
   "outputs": [],
   "source": [
    "train_size = floor(0.75 * nrow(df))\n",
    "train_data = df[1:train_size, ]\n",
    "test_data = df[train_size:nrow(df), ]"
   ]
  },
  {
   "cell_type": "code",
   "execution_count": 6,
   "metadata": {},
   "outputs": [],
   "source": [
    "train_size = floor(0.75 * nrow(train_data))\n",
    "train_ds = train_data[1:train_size, ]\n",
    "val_ds = train_data[train_size:nrow(train_data), ]"
   ]
  },
  {
   "cell_type": "code",
   "execution_count": 7,
   "metadata": {},
   "outputs": [
    {
     "data": {
      "text/plain": [
       " Annual.Hash.Growth    Block.Height       Block.Interval     \n",
       " Min.   :-0.1762711   Min.   :0.0001619   Min.   :-0.454102  \n",
       " 1st Qu.:-0.0283280   1st Qu.:0.0002669   1st Qu.:-0.075632  \n",
       " Median :-0.0025124   Median :0.0003160   Median : 0.003303  \n",
       " Mean   :-0.0005785   Mean   :0.0003215   Mean   : 0.007252  \n",
       " 3rd Qu.: 0.0255764   3rd Qu.:0.0003693   3rd Qu.: 0.086868  \n",
       " Max.   : 0.1862522   Max.   :0.0005573   Max.   : 0.711900  \n",
       "   Block.Size        Daily.Transactions    Difficulty       \n",
       " Min.   :-0.433702   Min.   :-0.405205   Min.   :-0.151338  \n",
       " 1st Qu.:-0.065615   1st Qu.:-0.075388   1st Qu.: 0.002239  \n",
       " Median :-0.001753   Median :-0.008647   Median : 0.043401  \n",
       " Mean   : 0.010509   Mean   : 0.008237   Mean   : 0.044437  \n",
       " 3rd Qu.: 0.066638   3rd Qu.: 0.064695   3rd Qu.: 0.073100  \n",
       " Max.   : 0.996191   Max.   : 0.644554   Max.   : 0.213947  \n",
       " Fee.Percentage         Fee.Rate        Two.Week.Hash.Growth\n",
       " Min.   :-0.909721   Min.   :-0.86264   Min.   :-9097.212   \n",
       " 1st Qu.:-0.130096   1st Qu.:-0.09944   1st Qu.:   -0.366   \n",
       " Median : 0.004583   Median :-0.02367   Median :   -0.045   \n",
       " Mean   : 0.062959   Mean   : 0.02093   Mean   :   -5.151   \n",
       " 3rd Qu.: 0.160508   3rd Qu.: 0.09319   3rd Qu.:    0.287   \n",
       " Max.   :11.583540   Max.   : 6.05128   Max.   :   62.564   \n",
       "   Hash.Rate         Inflation.Rate       Price.Volatility    \n",
       " Min.   :-0.084193   Min.   :-3.891e-03   Min.   :-0.4963498  \n",
       " 1st Qu.:-0.009090   1st Qu.:-9.335e-04   1st Qu.:-0.0098159  \n",
       " Median : 0.003419   Median :-3.480e-04   Median :-0.0001181  \n",
       " Mean   : 0.003274   Mean   :-5.969e-04   Mean   : 0.0036711  \n",
       " 3rd Qu.: 0.015197   3rd Qu.: 8.140e-06   3rd Qu.: 0.0094121  \n",
       " Max.   : 0.083770   Max.   : 1.129e-03   Max.   : 1.5971221  \n",
       " Bitcoin.Core..BTC..Price Quarterly.Hash.Growth Total.Transactions \n",
       " Min.   :-0.290330        Min.   :-15.78211     Min.   :0.0004356  \n",
       " 1st Qu.:-0.010763        1st Qu.: -0.07380     1st Qu.:0.0007185  \n",
       " Median : 0.001859        Median : -0.00324     Median :0.0011373  \n",
       " Mean   : 0.002138        Mean   :  0.01733     Mean   :0.0011675  \n",
       " 3rd Qu.: 0.016742        3rd Qu.:  0.07950     3rd Qu.:0.0015607  \n",
       " Max.   : 0.236745        Max.   : 50.99857     Max.   :0.0030576  \n",
       " Transaction.Size    Avg..UTXO.Amount     Velocity...Daily  \n",
       " Min.   :-0.934859   Min.   :-0.0495141   Min.   :-0.93853  \n",
       " 1st Qu.:-0.097598   1st Qu.:-0.0015605   1st Qu.:-0.16592  \n",
       " Median : 0.001832   Median :-0.0007868   Median :-0.01338  \n",
       " Mean   : 0.029204   Mean   :-0.0008858   Mean   : 0.06674  \n",
       " 3rd Qu.: 0.108321   3rd Qu.:-0.0002294   3rd Qu.: 0.18167  \n",
       " Max.   : 9.886503   Max.   : 0.0108873   Max.   :11.18986  \n",
       " Velocity...Quarterly Velocity.of.Money     DIA.US.Index       \n",
       " Min.   :-1.919e-01   Min.   :-0.0646156   Min.   :-0.1276119  \n",
       " 1st Qu.:-3.349e-03   1st Qu.:-0.0011552   1st Qu.:-0.0033559  \n",
       " Median :-2.446e-04   Median : 0.0002252   Median : 0.0005676  \n",
       " Mean   :-7.236e-05   Mean   : 0.0001709   Mean   : 0.0001030  \n",
       " 3rd Qu.: 3.170e-03   3rd Qu.: 0.0012296   3rd Qu.: 0.0044137  \n",
       " Max.   : 2.212e-01   Max.   : 0.1077173   Max.   : 0.0942907  \n",
       " CNYUSD.Curncy        EURUSD.Curncy        GDX.US.Equity       \n",
       " Min.   :-1.820e-02   Min.   :-2.354e-02   Min.   :-0.2282353  \n",
       " 1st Qu.:-1.310e-03   1st Qu.:-3.178e-03   1st Qu.:-0.0112546  \n",
       " Median :-6.405e-05   Median :-2.250e-06   Median : 0.0005000  \n",
       " Mean   :-1.091e-04   Mean   :-8.819e-05   Mean   : 0.0004581  \n",
       " 3rd Qu.: 1.083e-03   3rd Qu.: 2.827e-03   3rd Qu.: 0.0128551  \n",
       " Max.   : 1.137e-02   Max.   : 3.062e-02   Max.   : 0.1836842  \n",
       "  SHCOMP.Index          TWSE.Index           ADS_Index        \n",
       " Min.   :-0.0849090   Min.   :-6.313e-02   Min.   :-383.7449  \n",
       " 1st Qu.:-0.0053866   1st Qu.:-3.993e-03   1st Qu.:  -0.0326  \n",
       " Median : 0.0008686   Median : 5.537e-04   Median :   0.0045  \n",
       " Mean   :-0.0001091   Mean   :-4.292e-05   Mean   :  -0.2216  \n",
       " 3rd Qu.: 0.0059407   3rd Qu.: 4.792e-03   3rd Qu.:   0.0368  \n",
       " Max.   : 0.0576356   Max.   : 3.580e-02   Max.   :  33.4724  \n",
       " Google.trends      Lumber.prices           WTI.Oil          \n",
       " Min.   :-0.83333   Min.   :-0.1036496   Min.   :-0.2458818  \n",
       " 1st Qu.:-0.08823   1st Qu.:-0.0118985   1st Qu.:-0.0124901  \n",
       " Median :-0.02703   Median : 0.0004675   Median : 0.0014848  \n",
       " Mean   : 0.00947   Mean   : 0.0003698   Mean   : 0.0001832  \n",
       " 3rd Qu.: 0.07692   3rd Qu.: 0.0128908   3rd Qu.: 0.0124331  \n",
       " Max.   : 3.22222   Max.   : 0.1002565   Max.   : 0.1467639  \n",
       " Sentiment.Score        label          std_BTC_returns  \n",
       " Min.   :-88.7110   Min.   :-29.0330   Min.   : 0.1769  \n",
       " 1st Qu.:  0.0001   1st Qu.: -1.0763   1st Qu.: 1.2547  \n",
       " Median :  0.0001   Median :  0.1887   Median : 2.1209  \n",
       " Mean   :  0.7554   Mean   :  0.2143   Mean   : 2.6448  \n",
       " 3rd Qu.:  0.0001   3rd Qu.:  1.6742   3rd Qu.: 3.4244  \n",
       " Max.   :153.6839   Max.   : 23.6745   Max.   :13.0136  "
      ]
     },
     "metadata": {},
     "output_type": "display_data"
    }
   ],
   "source": [
    "summary(df)"
   ]
  },
  {
   "cell_type": "markdown",
   "metadata": {},
   "source": [
    "### Linear Regression"
   ]
  },
  {
   "cell_type": "code",
   "execution_count": 8,
   "metadata": {},
   "outputs": [],
   "source": [
    "# linear regression\n",
    "\n",
    "lmbtc = lm(label~., data = train_data)"
   ]
  },
  {
   "cell_type": "code",
   "execution_count": 9,
   "metadata": {
    "scrolled": true
   },
   "outputs": [
    {
     "data": {
      "text/plain": [
       "\n",
       "Call:\n",
       "lm(formula = label ~ ., data = train_data)\n",
       "\n",
       "Residuals:\n",
       "     Min       1Q   Median       3Q      Max \n",
       "-18.6246  -1.2896  -0.0677   1.4190  21.2811 \n",
       "\n",
       "Coefficients:\n",
       "                           Estimate Std. Error t value Pr(>|t|)    \n",
       "(Intercept)               2.225e-01  7.479e-01   0.297   0.7661    \n",
       "Annual.Hash.Growth        9.905e-01  3.536e+00   0.280   0.7794    \n",
       "Block.Height             -3.894e+02  2.823e+03  -0.138   0.8903    \n",
       "Block.Interval           -1.340e+00  1.311e+00  -1.023   0.3066    \n",
       "Block.Size                1.406e+00  1.124e+00   1.251   0.2110    \n",
       "Daily.Transactions       -1.672e+00  1.167e+00  -1.433   0.1522    \n",
       "Difficulty               -3.745e-01  1.553e+00  -0.241   0.8095    \n",
       "Fee.Percentage           -8.916e-02  3.221e-01  -0.277   0.7820    \n",
       "Fee.Rate                 -5.899e-01  4.467e-01  -1.321   0.1869    \n",
       "Two.Week.Hash.Growth     -5.717e-03  9.446e-03  -0.605   0.5451    \n",
       "Hash.Rate                 1.108e+01  7.714e+00   1.437   0.1509    \n",
       "Inflation.Rate           -1.063e+02  1.076e+02  -0.987   0.3237    \n",
       "Price.Volatility          6.310e-01  1.213e+00   0.520   0.6030    \n",
       "Bitcoin.Core..BTC..Price  1.629e+01  2.669e+00   6.104 1.34e-09 ***\n",
       "Quarterly.Hash.Growth    -4.799e-02  6.198e-02  -0.774   0.4389    \n",
       "Total.Transactions        4.067e+01  3.592e+02   0.113   0.9099    \n",
       "Transaction.Size          4.245e-02  2.619e-01   0.162   0.8713    \n",
       "Avg..UTXO.Amount         -3.840e+00  2.369e+01  -0.162   0.8713    \n",
       "Velocity...Daily          2.712e-01  3.595e-01   0.754   0.4508    \n",
       "Velocity...Quarterly     -1.716e+01  1.083e+01  -1.585   0.1132    \n",
       "Velocity.of.Money         4.530e+01  2.673e+01   1.695   0.0903 .  \n",
       "DIA.US.Index              2.336e+01  1.173e+01   1.991   0.0467 *  \n",
       "CNYUSD.Curncy            -1.043e+02  4.100e+01  -2.544   0.0111 *  \n",
       "EURUSD.Curncy             5.389e+00  1.746e+01   0.309   0.7577    \n",
       "GDX.US.Equity             6.508e+00  4.098e+00   1.588   0.1125    \n",
       "SHCOMP.Index              3.407e+00  6.232e+00   0.547   0.5847    \n",
       "TWSE.Index               -3.781e+00  1.185e+01  -0.319   0.7498    \n",
       "ADS_Index                 2.504e-03  8.745e-03   0.286   0.7747    \n",
       "Google.trends            -2.101e-01  4.231e-01  -0.497   0.6196    \n",
       "Lumber.prices            -1.651e+00  5.160e+00  -0.320   0.7490    \n",
       "WTI.Oil                  -2.771e+00  4.052e+00  -0.684   0.4941    \n",
       "Sentiment.Score          -8.605e-03  1.358e-02  -0.633   0.5266    \n",
       "std_BTC_returns          -1.583e-02  5.076e-02  -0.312   0.7552    \n",
       "---\n",
       "Signif. codes:  0 '***' 0.001 '**' 0.01 '*' 0.05 '.' 0.1 ' ' 1\n",
       "\n",
       "Residual standard error: 3.365 on 1386 degrees of freedom\n",
       "Multiple R-squared:  0.0507,\tAdjusted R-squared:  0.02878 \n",
       "F-statistic: 2.313 on 32 and 1386 DF,  p-value: 5e-05\n"
      ]
     },
     "metadata": {},
     "output_type": "display_data"
    }
   ],
   "source": [
    "summary(lmbtc)"
   ]
  },
  {
   "cell_type": "markdown",
   "metadata": {},
   "source": [
    "# Ridge regression"
   ]
  },
  {
   "cell_type": "code",
   "execution_count": 10,
   "metadata": {},
   "outputs": [],
   "source": [
    "\n",
    "# ! install.packages(\"Metrics\")\n",
    "library(Metrics)"
   ]
  },
  {
   "cell_type": "code",
   "execution_count": 11,
   "metadata": {},
   "outputs": [],
   "source": [
    "lambdas <- 10^seq(2, -2, by = -.1)\n",
    "train_x = train_ds[-ncol(train_ds)+1]\n",
    "train_y = train_ds[ncol(train_ds)-1]\n",
    "test_x = val_ds[-ncol(val_ds)+1]\n",
    "test_y = val_ds[ncol(val_ds)-1]\n",
    "RMSEs = c()\n",
    "for (lam in lambdas) {\n",
    "    ridge_reg = glmnet(as.matrix(train_x), train_y[,1], alpha = 0, family = 'gaussian', lambda = lam)\n",
    "    pred = predict(ridge_reg, as.matrix(test_x))\n",
    "    RMSEs = c(RMSEs, rmse(test_y[,1], pred))\n",
    "}"
   ]
  },
  {
   "cell_type": "code",
   "execution_count": 12,
   "metadata": {},
   "outputs": [
    {
     "data": {
      "text/html": [
       "100"
      ],
      "text/latex": [
       "100"
      ],
      "text/markdown": [
       "100"
      ],
      "text/plain": [
       "[1] 100"
      ]
     },
     "metadata": {},
     "output_type": "display_data"
    },
    {
     "data": {
      "image/png": "[encoded data removed]",
      "text/plain": [
       "plot without title"
      ]
     },
     "metadata": {
      "image/png": {
       "height": 420,
       "width": 420
      }
     },
     "output_type": "display_data"
    }
   ],
   "source": [
    "plot(log(lambdas), RMSEs)\n",
    "best_lam = lambdas[which.min(RMSEs)]\n",
    "best_lam"
   ]
  },
  {
   "cell_type": "code",
   "execution_count": 13,
   "metadata": {},
   "outputs": [],
   "source": [
    "train_x = train_data[-ncol(train_data)+1]\n",
    "train_y = train_data[ncol(train_data)-1]\n",
    "\n",
    "ridge_reg = glmnet(as.matrix(train_x), train_y[,1], alpha = 0, family = 'gaussian', lambda = best_lam)"
   ]
  },
  {
   "cell_type": "code",
   "execution_count": 14,
   "metadata": {},
   "outputs": [
    {
     "data": {
      "text/plain": [
       "33 x 1 sparse Matrix of class \"dgCMatrix\"\n",
       "                                    s0\n",
       "(Intercept)               2.178640e-01\n",
       "Annual.Hash.Growth        1.405761e-01\n",
       "Block.Height              6.716946e+01\n",
       "Block.Interval           -2.716084e-02\n",
       "Block.Size                6.710354e-03\n",
       "Daily.Transactions       -9.901459e-05\n",
       "Difficulty               -1.600023e-02\n",
       "Fee.Percentage           -1.089547e-02\n",
       "Fee.Rate                 -2.574166e-02\n",
       "Two.Week.Hash.Growth     -2.324556e-04\n",
       "Hash.Rate                 4.120044e-01\n",
       "Inflation.Rate           -2.006539e+00\n",
       "Price.Volatility         -4.474588e-03\n",
       "Bitcoin.Core..BTC..Price  5.379676e-01\n",
       "Quarterly.Hash.Growth    -1.041958e-03\n",
       "Total.Transactions        6.697060e+00\n",
       "Transaction.Size          8.402754e-03\n",
       "Avg..UTXO.Amount         -8.853459e-02\n",
       "Velocity...Daily          3.903975e-03\n",
       "Velocity...Quarterly     -4.122772e-03\n",
       "Velocity.of.Money         8.986228e-01\n",
       "DIA.US.Index              6.379210e-01\n",
       "CNYUSD.Curncy            -2.555489e+00\n",
       "EURUSD.Curncy             2.991346e-03\n",
       "GDX.US.Equity             1.784311e-01\n",
       "SHCOMP.Index              1.115320e-01\n",
       "TWSE.Index                4.892258e-02\n",
       "ADS_Index                 5.029675e-06\n",
       "Google.trends            -4.170967e-03\n",
       "Lumber.prices            -8.988437e-02\n",
       "WTI.Oil                   2.455002e-02\n",
       "Sentiment.Score          -3.968366e-04\n",
       "std_BTC_returns          -5.666087e-04"
      ]
     },
     "metadata": {},
     "output_type": "display_data"
    }
   ],
   "source": [
    "coef(ridge_reg)"
   ]
  },
  {
   "cell_type": "markdown",
   "metadata": {},
   "source": [
    "# Lasso Regression"
   ]
  },
  {
   "cell_type": "code",
   "execution_count": 15,
   "metadata": {},
   "outputs": [],
   "source": [
    "lambdas <- 10^seq(2, -2, by = -.1)\n",
    "train_x = train_ds[-ncol(train_ds)+1]\n",
    "train_y = train_ds[ncol(train_ds)-1]\n",
    "test_x = val_ds[-ncol(val_ds)+1]\n",
    "test_y = val_ds[ncol(val_ds)-1]\n",
    "RMSEs = c()\n",
    "for (lam in lambdas) {\n",
    "    lasso_reg = glmnet(as.matrix(train_x), train_y[,1], alpha = 1, family = 'gaussian', lambda = lam)\n",
    "    pred = predict(lasso_reg, as.matrix(test_x))\n",
    "    RMSEs = c(RMSEs, rmse(test_y[,1], pred))\n",
    "}"
   ]
  },
  {
   "cell_type": "code",
   "execution_count": 16,
   "metadata": {},
   "outputs": [
    {
     "data": {
      "text/html": [
       "0.398107170553497"
      ],
      "text/latex": [
       "0.398107170553497"
      ],
      "text/markdown": [
       "0.398107170553497"
      ],
      "text/plain": [
       "[1] 0.3981072"
      ]
     },
     "metadata": {},
     "output_type": "display_data"
    },
    {
     "data": {
      "image/png": "[encoded data removed]",
      "text/plain": [
       "plot without title"
      ]
     },
     "metadata": {
      "image/png": {
       "height": 420,
       "width": 420
      }
     },
     "output_type": "display_data"
    }
   ],
   "source": [
    "plot(log(lambdas), RMSEs)\n",
    "best_lam = lambdas[which.min(RMSEs)]\n",
    "best_lam"
   ]
  },
  {
   "cell_type": "code",
   "execution_count": 17,
   "metadata": {},
   "outputs": [],
   "source": [
    "train_x = train_data[-ncol(train_data)+1]\n",
    "train_y = train_data[ncol(train_data)-1]\n",
    "\n",
    "lasso_reg = glmnet(as.matrix(train_x), train_y[,1], alpha = 1, family = 'gaussian', lambda = best_lam)"
   ]
  },
  {
   "cell_type": "code",
   "execution_count": 18,
   "metadata": {},
   "outputs": [
    {
     "data": {
      "text/plain": [
       "33 x 1 sparse Matrix of class \"dgCMatrix\"\n",
       "                                s0\n",
       "(Intercept)              0.2396606\n",
       "Annual.Hash.Growth       .        \n",
       "Block.Height             .        \n",
       "Block.Interval           .        \n",
       "Block.Size               .        \n",
       "Daily.Transactions       .        \n",
       "Difficulty               .        \n",
       "Fee.Percentage           .        \n",
       "Fee.Rate                 .        \n",
       "Two.Week.Hash.Growth     .        \n",
       "Hash.Rate                .        \n",
       "Inflation.Rate           .        \n",
       "Price.Volatility         .        \n",
       "Bitcoin.Core..BTC..Price 4.6655755\n",
       "Quarterly.Hash.Growth    .        \n",
       "Total.Transactions       .        \n",
       "Transaction.Size         .        \n",
       "Avg..UTXO.Amount         .        \n",
       "Velocity...Daily         .        \n",
       "Velocity...Quarterly     .        \n",
       "Velocity.of.Money        .        \n",
       "DIA.US.Index             .        \n",
       "CNYUSD.Curncy            .        \n",
       "EURUSD.Curncy            .        \n",
       "GDX.US.Equity            .        \n",
       "SHCOMP.Index             .        \n",
       "TWSE.Index               .        \n",
       "ADS_Index                .        \n",
       "Google.trends            .        \n",
       "Lumber.prices            .        \n",
       "WTI.Oil                  .        \n",
       "Sentiment.Score          .        \n",
       "std_BTC_returns          .        "
      ]
     },
     "metadata": {},
     "output_type": "display_data"
    }
   ],
   "source": [
    "coef(lasso_reg)"
   ]
  },
  {
   "cell_type": "markdown",
   "metadata": {},
   "source": [
    "# Elastic net regression"
   ]
  },
  {
   "cell_type": "code",
   "execution_count": 19,
   "metadata": {},
   "outputs": [],
   "source": [
    "lambdas <- 10^seq(-2, 2, by = .1)\n",
    "alphas = seq(0, 1, by= .1)\n",
    "train_x = train_ds[-ncol(train_ds)+1]\n",
    "train_y = train_ds[ncol(train_ds)-1]\n",
    "test_x = val_ds[-ncol(val_ds)+1]\n",
    "test_y = val_ds[ncol(val_ds)-1]"
   ]
  },
  {
   "cell_type": "code",
   "execution_count": 20,
   "metadata": {},
   "outputs": [],
   "source": [
    "grid = matrix(10000, nrow=21, ncol=11)"
   ]
  },
  {
   "cell_type": "code",
   "execution_count": 21,
   "metadata": {},
   "outputs": [],
   "source": [
    "min_RMSE = 10000\n",
    "best_lam = -1\n",
    "best_alpha = -1\n",
    "for (i in 1:21) {\n",
    "    for (j in 1:11) {\n",
    "        reg = glmnet(as.matrix(train_x), train_y[,1], alpha = alphas[j], family = 'gaussian', lambda = lambdas[i])\n",
    "        pred = predict(reg, as.matrix(test_x))\n",
    "        grid[i,j] = rmse(test_y[,1], pred)\n",
    "        if (grid[i,j] < min_RMSE) {\n",
    "            best_lam = lambdas[i]\n",
    "            best_alpha = alphas[j]\n",
    "            min_RMSE = grid[i,j]\n",
    "        }\n",
    "    }\n",
    "}"
   ]
  },
  {
   "cell_type": "code",
   "execution_count": 22,
   "metadata": {},
   "outputs": [
    {
     "data": {
      "text/html": [
       "0.794328234724282"
      ],
      "text/latex": [
       "0.794328234724282"
      ],
      "text/markdown": [
       "0.794328234724282"
      ],
      "text/plain": [
       "[1] 0.7943282"
      ]
     },
     "metadata": {},
     "output_type": "display_data"
    },
    {
     "data": {
      "text/html": [
       "0.4"
      ],
      "text/latex": [
       "0.4"
      ],
      "text/markdown": [
       "0.4"
      ],
      "text/plain": [
       "[1] 0.4"
      ]
     },
     "metadata": {},
     "output_type": "display_data"
    }
   ],
   "source": [
    "best_lam\n",
    "best_alpha"
   ]
  },
  {
   "cell_type": "code",
   "execution_count": 23,
   "metadata": {},
   "outputs": [],
   "source": [
    "train_x = train_data[-ncol(train_data)+1]\n",
    "train_y = train_data[ncol(train_data)-1]\n",
    "\n",
    "reg = glmnet(as.matrix(train_x), train_y[,1], alpha = best_alpha, family = 'gaussian', lambda = best_lam)"
   ]
  },
  {
   "cell_type": "code",
   "execution_count": 24,
   "metadata": {},
   "outputs": [
    {
     "data": {
      "text/plain": [
       "33 x 1 sparse Matrix of class \"dgCMatrix\"\n",
       "                                s0\n",
       "(Intercept)              0.2359316\n",
       "Annual.Hash.Growth       .        \n",
       "Block.Height             .        \n",
       "Block.Interval           .        \n",
       "Block.Size               .        \n",
       "Daily.Transactions       .        \n",
       "Difficulty               .        \n",
       "Fee.Percentage           .        \n",
       "Fee.Rate                 .        \n",
       "Two.Week.Hash.Growth     .        \n",
       "Hash.Rate                .        \n",
       "Inflation.Rate           .        \n",
       "Price.Volatility         .        \n",
       "Bitcoin.Core..BTC..Price 6.1606285\n",
       "Quarterly.Hash.Growth    .        \n",
       "Total.Transactions       .        \n",
       "Transaction.Size         .        \n",
       "Avg..UTXO.Amount         .        \n",
       "Velocity...Daily         .        \n",
       "Velocity...Quarterly     .        \n",
       "Velocity.of.Money        .        \n",
       "DIA.US.Index             .        \n",
       "CNYUSD.Curncy            .        \n",
       "EURUSD.Curncy            .        \n",
       "GDX.US.Equity            .        \n",
       "SHCOMP.Index             .        \n",
       "TWSE.Index               .        \n",
       "ADS_Index                .        \n",
       "Google.trends            .        \n",
       "Lumber.prices            .        \n",
       "WTI.Oil                  .        \n",
       "Sentiment.Score          .        \n",
       "std_BTC_returns          .        "
      ]
     },
     "metadata": {},
     "output_type": "display_data"
    }
   ],
   "source": [
    "coef(reg)"
   ]
  },
  {
   "cell_type": "markdown",
   "metadata": {},
   "source": [
    "# Random Forest"
   ]
  },
  {
   "cell_type": "code",
   "execution_count": 25,
   "metadata": {},
   "outputs": [],
   "source": [
    "train_x = train_ds[-ncol(train_ds)+1]\n",
    "train_y = train_ds[ncol(train_ds)-1]\n",
    "test_x = val_ds[-ncol(val_ds)+1]\n",
    "test_y = val_ds[ncol(val_ds)-1]"
   ]
  },
  {
   "cell_type": "code",
   "execution_count": 26,
   "metadata": {},
   "outputs": [],
   "source": [
    "n_trees = seq(20, 400, by=20)\n",
    "RMSEs = c()\n",
    "\n",
    "for (i in n_trees){\n",
    "    rf <- randomForest(label~., data=train_ds, proximity=TRUE, ntree=i)\n",
    "    pred = predict(rf, as.matrix(test_x))\n",
    "    RMSEs = c(RMSEs, rmse(pred, test_y[,1]))\n",
    "} \n"
   ]
  },
  {
   "cell_type": "code",
   "execution_count": 27,
   "metadata": {},
   "outputs": [
    {
     "data": {
      "text/html": [
       "220"
      ],
      "text/latex": [
       "220"
      ],
      "text/markdown": [
       "220"
      ],
      "text/plain": [
       "[1] 220"
      ]
     },
     "metadata": {},
     "output_type": "display_data"
    },
    {
     "data": {
      "image/png": "[encoded data removed]",
      "text/plain": [
       "plot without title"
      ]
     },
     "metadata": {
      "image/png": {
       "height": 420,
       "width": 420
      }
     },
     "output_type": "display_data"
    }
   ],
   "source": [
    "plot(n_trees, RMSEs, type='l')\n",
    "best_ntree = n_trees[which.min(RMSEs)]\n",
    "best_ntree"
   ]
  },
  {
   "cell_type": "code",
   "execution_count": 28,
   "metadata": {},
   "outputs": [
    {
     "data": {
      "text/html": [
       "<table class=\"dataframe\">\n",
       "<caption>A matrix: 32 × 1 of type dbl</caption>\n",
       "<thead>\n",
       "\t<tr><th></th><th scope=col>IncNodePurity</th></tr>\n",
       "</thead>\n",
       "<tbody>\n",
       "\t<tr><th scope=row>Annual.Hash.Growth</th><td> 247.40757</td></tr>\n",
       "\t<tr><th scope=row>Block.Height</th><td> 257.80754</td></tr>\n",
       "\t<tr><th scope=row>Block.Interval</th><td> 208.04137</td></tr>\n",
       "\t<tr><th scope=row>Block.Size</th><td> 202.64323</td></tr>\n",
       "\t<tr><th scope=row>Daily.Transactions</th><td> 191.29591</td></tr>\n",
       "\t<tr><th scope=row>Difficulty</th><td> 203.26577</td></tr>\n",
       "\t<tr><th scope=row>Fee.Percentage</th><td> 345.40716</td></tr>\n",
       "\t<tr><th scope=row>Fee.Rate</th><td> 407.33217</td></tr>\n",
       "\t<tr><th scope=row>Two.Week.Hash.Growth</th><td> 370.22973</td></tr>\n",
       "\t<tr><th scope=row>Hash.Rate</th><td> 359.23799</td></tr>\n",
       "\t<tr><th scope=row>Inflation.Rate</th><td> 246.77393</td></tr>\n",
       "\t<tr><th scope=row>Price.Volatility</th><td> 367.34806</td></tr>\n",
       "\t<tr><th scope=row>Bitcoin.Core..BTC..Price</th><td>1013.83870</td></tr>\n",
       "\t<tr><th scope=row>Quarterly.Hash.Growth</th><td> 202.75210</td></tr>\n",
       "\t<tr><th scope=row>Total.Transactions</th><td> 343.89809</td></tr>\n",
       "\t<tr><th scope=row>Transaction.Size</th><td> 264.75987</td></tr>\n",
       "\t<tr><th scope=row>Avg..UTXO.Amount</th><td> 261.79381</td></tr>\n",
       "\t<tr><th scope=row>Velocity...Daily</th><td> 227.69947</td></tr>\n",
       "\t<tr><th scope=row>Velocity...Quarterly</th><td> 255.49498</td></tr>\n",
       "\t<tr><th scope=row>Velocity.of.Money</th><td> 244.59777</td></tr>\n",
       "\t<tr><th scope=row>DIA.US.Index</th><td> 204.05928</td></tr>\n",
       "\t<tr><th scope=row>CNYUSD.Curncy</th><td> 341.37884</td></tr>\n",
       "\t<tr><th scope=row>EURUSD.Curncy</th><td> 312.92946</td></tr>\n",
       "\t<tr><th scope=row>GDX.US.Equity</th><td> 168.31208</td></tr>\n",
       "\t<tr><th scope=row>SHCOMP.Index</th><td> 244.41341</td></tr>\n",
       "\t<tr><th scope=row>TWSE.Index</th><td> 205.53661</td></tr>\n",
       "\t<tr><th scope=row>ADS_Index</th><td> 327.45791</td></tr>\n",
       "\t<tr><th scope=row>Google.trends</th><td>1055.80787</td></tr>\n",
       "\t<tr><th scope=row>Lumber.prices</th><td> 197.32304</td></tr>\n",
       "\t<tr><th scope=row>WTI.Oil</th><td> 312.35680</td></tr>\n",
       "\t<tr><th scope=row>Sentiment.Score</th><td>  80.10241</td></tr>\n",
       "\t<tr><th scope=row>std_BTC_returns</th><td> 549.78398</td></tr>\n",
       "</tbody>\n",
       "</table>\n"
      ],
      "text/latex": [
       "A matrix: 32 × 1 of type dbl\n",
       "\\begin{tabular}{r|l}\n",
       "  & IncNodePurity\\\\\n",
       "\\hline\n",
       "\tAnnual.Hash.Growth &  247.40757\\\\\n",
       "\tBlock.Height &  257.80754\\\\\n",
       "\tBlock.Interval &  208.04137\\\\\n",
       "\tBlock.Size &  202.64323\\\\\n",
       "\tDaily.Transactions &  191.29591\\\\\n",
       "\tDifficulty &  203.26577\\\\\n",
       "\tFee.Percentage &  345.40716\\\\\n",
       "\tFee.Rate &  407.33217\\\\\n",
       "\tTwo.Week.Hash.Growth &  370.22973\\\\\n",
       "\tHash.Rate &  359.23799\\\\\n",
       "\tInflation.Rate &  246.77393\\\\\n",
       "\tPrice.Volatility &  367.34806\\\\\n",
       "\tBitcoin.Core..BTC..Price & 1013.83870\\\\\n",
       "\tQuarterly.Hash.Growth &  202.75210\\\\\n",
       "\tTotal.Transactions &  343.89809\\\\\n",
       "\tTransaction.Size &  264.75987\\\\\n",
       "\tAvg..UTXO.Amount &  261.79381\\\\\n",
       "\tVelocity...Daily &  227.69947\\\\\n",
       "\tVelocity...Quarterly &  255.49498\\\\\n",
       "\tVelocity.of.Money &  244.59777\\\\\n",
       "\tDIA.US.Index &  204.05928\\\\\n",
       "\tCNYUSD.Curncy &  341.37884\\\\\n",
       "\tEURUSD.Curncy &  312.92946\\\\\n",
       "\tGDX.US.Equity &  168.31208\\\\\n",
       "\tSHCOMP.Index &  244.41341\\\\\n",
       "\tTWSE.Index &  205.53661\\\\\n",
       "\tADS\\_Index &  327.45791\\\\\n",
       "\tGoogle.trends & 1055.80787\\\\\n",
       "\tLumber.prices &  197.32304\\\\\n",
       "\tWTI.Oil &  312.35680\\\\\n",
       "\tSentiment.Score &   80.10241\\\\\n",
       "\tstd\\_BTC\\_returns &  549.78398\\\\\n",
       "\\end{tabular}\n"
      ],
      "text/markdown": [
       "\n",
       "A matrix: 32 × 1 of type dbl\n",
       "\n",
       "| <!--/--> | IncNodePurity |\n",
       "|---|---|\n",
       "| Annual.Hash.Growth |  247.40757 |\n",
       "| Block.Height |  257.80754 |\n",
       "| Block.Interval |  208.04137 |\n",
       "| Block.Size |  202.64323 |\n",
       "| Daily.Transactions |  191.29591 |\n",
       "| Difficulty |  203.26577 |\n",
       "| Fee.Percentage |  345.40716 |\n",
       "| Fee.Rate |  407.33217 |\n",
       "| Two.Week.Hash.Growth |  370.22973 |\n",
       "| Hash.Rate |  359.23799 |\n",
       "| Inflation.Rate |  246.77393 |\n",
       "| Price.Volatility |  367.34806 |\n",
       "| Bitcoin.Core..BTC..Price | 1013.83870 |\n",
       "| Quarterly.Hash.Growth |  202.75210 |\n",
       "| Total.Transactions |  343.89809 |\n",
       "| Transaction.Size |  264.75987 |\n",
       "| Avg..UTXO.Amount |  261.79381 |\n",
       "| Velocity...Daily |  227.69947 |\n",
       "| Velocity...Quarterly |  255.49498 |\n",
       "| Velocity.of.Money |  244.59777 |\n",
       "| DIA.US.Index |  204.05928 |\n",
       "| CNYUSD.Curncy |  341.37884 |\n",
       "| EURUSD.Curncy |  312.92946 |\n",
       "| GDX.US.Equity |  168.31208 |\n",
       "| SHCOMP.Index |  244.41341 |\n",
       "| TWSE.Index |  205.53661 |\n",
       "| ADS_Index |  327.45791 |\n",
       "| Google.trends | 1055.80787 |\n",
       "| Lumber.prices |  197.32304 |\n",
       "| WTI.Oil |  312.35680 |\n",
       "| Sentiment.Score |   80.10241 |\n",
       "| std_BTC_returns |  549.78398 |\n",
       "\n"
      ],
      "text/plain": [
       "                         IncNodePurity\n",
       "Annual.Hash.Growth        247.40757   \n",
       "Block.Height              257.80754   \n",
       "Block.Interval            208.04137   \n",
       "Block.Size                202.64323   \n",
       "Daily.Transactions        191.29591   \n",
       "Difficulty                203.26577   \n",
       "Fee.Percentage            345.40716   \n",
       "Fee.Rate                  407.33217   \n",
       "Two.Week.Hash.Growth      370.22973   \n",
       "Hash.Rate                 359.23799   \n",
       "Inflation.Rate            246.77393   \n",
       "Price.Volatility          367.34806   \n",
       "Bitcoin.Core..BTC..Price 1013.83870   \n",
       "Quarterly.Hash.Growth     202.75210   \n",
       "Total.Transactions        343.89809   \n",
       "Transaction.Size          264.75987   \n",
       "Avg..UTXO.Amount          261.79381   \n",
       "Velocity...Daily          227.69947   \n",
       "Velocity...Quarterly      255.49498   \n",
       "Velocity.of.Money         244.59777   \n",
       "DIA.US.Index              204.05928   \n",
       "CNYUSD.Curncy             341.37884   \n",
       "EURUSD.Curncy             312.92946   \n",
       "GDX.US.Equity             168.31208   \n",
       "SHCOMP.Index              244.41341   \n",
       "TWSE.Index                205.53661   \n",
       "ADS_Index                 327.45791   \n",
       "Google.trends            1055.80787   \n",
       "Lumber.prices             197.32304   \n",
       "WTI.Oil                   312.35680   \n",
       "Sentiment.Score            80.10241   \n",
       "std_BTC_returns           549.78398   "
      ]
     },
     "metadata": {},
     "output_type": "display_data"
    }
   ],
   "source": [
    "rf <- randomForest(label~., data=train_ds, proximity=TRUE, ntree=best_ntree)\n",
    "importance(rf)"
   ]
  },
  {
   "cell_type": "code",
   "execution_count": 29,
   "metadata": {},
   "outputs": [
    {
     "data": {
      "image/png": "[encoded data removed]",
      "text/plain": [
       "Plot with title \"rf\""
      ]
     },
     "metadata": {
      "image/png": {
       "height": 420,
       "width": 600
      }
     },
     "output_type": "display_data"
    }
   ],
   "source": [
    "options(repr.plot.width=10)\n",
    "varImpPlot(rf,type=2)"
   ]
  },
  {
   "cell_type": "code",
   "execution_count": 30,
   "metadata": {},
   "outputs": [
    {
     "data": {
      "image/png": "[encoded data removed]",
      "text/plain": [
       "plot without title"
      ]
     },
     "metadata": {
      "image/png": {
       "height": 420,
       "width": 600
      }
     },
     "output_type": "display_data"
    }
   ],
   "source": [
    "options(repr.plot.width=10)\n",
    "par(mat=c(5,6,4,1)+.1)\n",
    "barplot(sort(importance(rf)[,1], decreasing = FALSE), horiz=TRUE, las=1, col='cyan')"
   ]
  },
  {
   "cell_type": "code",
   "execution_count": 31,
   "metadata": {},
   "outputs": [
    {
     "data": {
      "text/html": [
       "<style>\n",
       ".dl-inline {width: auto; margin:0; padding: 0}\n",
       ".dl-inline>dt, .dl-inline>dd {float: none; width: auto; display: inline-block}\n",
       ".dl-inline>dt::after {content: \":\\0020\"; padding-right: .5ex}\n",
       ".dl-inline>dt:not(:first-of-type) {padding-left: .5ex}\n",
       "</style><dl class=dl-inline><dt>Google.trends</dt><dd>1055.80787001203</dd><dt>Bitcoin.Core..BTC..Price</dt><dd>1013.83870280447</dd><dt>std_BTC_returns</dt><dd>549.78398437374</dd><dt>Fee.Rate</dt><dd>407.33217404192</dd><dt>Two.Week.Hash.Growth</dt><dd>370.229725127936</dd><dt>Price.Volatility</dt><dd>367.348062321614</dd><dt>Hash.Rate</dt><dd>359.237994203095</dd><dt>Fee.Percentage</dt><dd>345.407160475539</dd><dt>Total.Transactions</dt><dd>343.898089686518</dd><dt>CNYUSD.Curncy</dt><dd>341.378836207534</dd><dt>ADS_Index</dt><dd>327.457911010772</dd><dt>EURUSD.Curncy</dt><dd>312.92946245745</dd><dt>WTI.Oil</dt><dd>312.356797112058</dd><dt>Transaction.Size</dt><dd>264.759871299874</dd><dt>Avg..UTXO.Amount</dt><dd>261.793805409572</dd><dt>Block.Height</dt><dd>257.807535689956</dd><dt>Velocity...Quarterly</dt><dd>255.494981470021</dd><dt>Annual.Hash.Growth</dt><dd>247.407570732541</dd><dt>Inflation.Rate</dt><dd>246.773927211486</dd><dt>Velocity.of.Money</dt><dd>244.597767559702</dd><dt>SHCOMP.Index</dt><dd>244.413410438659</dd><dt>Velocity...Daily</dt><dd>227.699469989396</dd><dt>Block.Interval</dt><dd>208.041369409385</dd><dt>TWSE.Index</dt><dd>205.536611786971</dd><dt>DIA.US.Index</dt><dd>204.059279538514</dd><dt>Difficulty</dt><dd>203.265773204984</dd><dt>Quarterly.Hash.Growth</dt><dd>202.752096033786</dd><dt>Block.Size</dt><dd>202.643230002861</dd><dt>Lumber.prices</dt><dd>197.323035066382</dd><dt>Daily.Transactions</dt><dd>191.29591070808</dd><dt>GDX.US.Equity</dt><dd>168.312081046912</dd><dt>Sentiment.Score</dt><dd>80.1024084327629</dd></dl>\n"
      ],
      "text/latex": [
       "\\begin{description*}\n",
       "\\item[Google.trends] 1055.80787001203\n",
       "\\item[Bitcoin.Core..BTC..Price] 1013.83870280447\n",
       "\\item[std\\textbackslash{}\\_BTC\\textbackslash{}\\_returns] 549.78398437374\n",
       "\\item[Fee.Rate] 407.33217404192\n",
       "\\item[Two.Week.Hash.Growth] 370.229725127936\n",
       "\\item[Price.Volatility] 367.348062321614\n",
       "\\item[Hash.Rate] 359.237994203095\n",
       "\\item[Fee.Percentage] 345.407160475539\n",
       "\\item[Total.Transactions] 343.898089686518\n",
       "\\item[CNYUSD.Curncy] 341.378836207534\n",
       "\\item[ADS\\textbackslash{}\\_Index] 327.457911010772\n",
       "\\item[EURUSD.Curncy] 312.92946245745\n",
       "\\item[WTI.Oil] 312.356797112058\n",
       "\\item[Transaction.Size] 264.759871299874\n",
       "\\item[Avg..UTXO.Amount] 261.793805409572\n",
       "\\item[Block.Height] 257.807535689956\n",
       "\\item[Velocity...Quarterly] 255.494981470021\n",
       "\\item[Annual.Hash.Growth] 247.407570732541\n",
       "\\item[Inflation.Rate] 246.773927211486\n",
       "\\item[Velocity.of.Money] 244.597767559702\n",
       "\\item[SHCOMP.Index] 244.413410438659\n",
       "\\item[Velocity...Daily] 227.699469989396\n",
       "\\item[Block.Interval] 208.041369409385\n",
       "\\item[TWSE.Index] 205.536611786971\n",
       "\\item[DIA.US.Index] 204.059279538514\n",
       "\\item[Difficulty] 203.265773204984\n",
       "\\item[Quarterly.Hash.Growth] 202.752096033786\n",
       "\\item[Block.Size] 202.643230002861\n",
       "\\item[Lumber.prices] 197.323035066382\n",
       "\\item[Daily.Transactions] 191.29591070808\n",
       "\\item[GDX.US.Equity] 168.312081046912\n",
       "\\item[Sentiment.Score] 80.1024084327629\n",
       "\\end{description*}\n"
      ],
      "text/markdown": [
       "Google.trends\n",
       ":   1055.80787001203Bitcoin.Core..BTC..Price\n",
       ":   1013.83870280447std_BTC_returns\n",
       ":   549.78398437374Fee.Rate\n",
       ":   407.33217404192Two.Week.Hash.Growth\n",
       ":   370.229725127936Price.Volatility\n",
       ":   367.348062321614Hash.Rate\n",
       ":   359.237994203095Fee.Percentage\n",
       ":   345.407160475539Total.Transactions\n",
       ":   343.898089686518CNYUSD.Curncy\n",
       ":   341.378836207534ADS_Index\n",
       ":   327.457911010772EURUSD.Curncy\n",
       ":   312.92946245745WTI.Oil\n",
       ":   312.356797112058Transaction.Size\n",
       ":   264.759871299874Avg..UTXO.Amount\n",
       ":   261.793805409572Block.Height\n",
       ":   257.807535689956Velocity...Quarterly\n",
       ":   255.494981470021Annual.Hash.Growth\n",
       ":   247.407570732541Inflation.Rate\n",
       ":   246.773927211486Velocity.of.Money\n",
       ":   244.597767559702SHCOMP.Index\n",
       ":   244.413410438659Velocity...Daily\n",
       ":   227.699469989396Block.Interval\n",
       ":   208.041369409385TWSE.Index\n",
       ":   205.536611786971DIA.US.Index\n",
       ":   204.059279538514Difficulty\n",
       ":   203.265773204984Quarterly.Hash.Growth\n",
       ":   202.752096033786Block.Size\n",
       ":   202.643230002861Lumber.prices\n",
       ":   197.323035066382Daily.Transactions\n",
       ":   191.29591070808GDX.US.Equity\n",
       ":   168.312081046912Sentiment.Score\n",
       ":   80.1024084327629\n",
       "\n"
      ],
      "text/plain": [
       "           Google.trends Bitcoin.Core..BTC..Price          std_BTC_returns \n",
       "              1055.80787               1013.83870                549.78398 \n",
       "                Fee.Rate     Two.Week.Hash.Growth         Price.Volatility \n",
       "               407.33217                370.22973                367.34806 \n",
       "               Hash.Rate           Fee.Percentage       Total.Transactions \n",
       "               359.23799                345.40716                343.89809 \n",
       "           CNYUSD.Curncy                ADS_Index            EURUSD.Curncy \n",
       "               341.37884                327.45791                312.92946 \n",
       "                 WTI.Oil         Transaction.Size         Avg..UTXO.Amount \n",
       "               312.35680                264.75987                261.79381 \n",
       "            Block.Height     Velocity...Quarterly       Annual.Hash.Growth \n",
       "               257.80754                255.49498                247.40757 \n",
       "          Inflation.Rate        Velocity.of.Money             SHCOMP.Index \n",
       "               246.77393                244.59777                244.41341 \n",
       "        Velocity...Daily           Block.Interval               TWSE.Index \n",
       "               227.69947                208.04137                205.53661 \n",
       "            DIA.US.Index               Difficulty    Quarterly.Hash.Growth \n",
       "               204.05928                203.26577                202.75210 \n",
       "              Block.Size            Lumber.prices       Daily.Transactions \n",
       "               202.64323                197.32304                191.29591 \n",
       "           GDX.US.Equity          Sentiment.Score \n",
       "               168.31208                 80.10241 "
      ]
     },
     "metadata": {},
     "output_type": "display_data"
    }
   ],
   "source": [
    "sort(importance(rf)[,1], decreasing = TRUE)"
   ]
  },
  {
   "cell_type": "markdown",
   "metadata": {},
   "source": [
    "# Boosting"
   ]
  },
  {
   "cell_type": "code",
   "execution_count": 32,
   "metadata": {},
   "outputs": [],
   "source": [
    "# install.packages(\"xgboost\")"
   ]
  },
  {
   "cell_type": "code",
   "execution_count": 33,
   "metadata": {},
   "outputs": [
    {
     "name": "stderr",
     "output_type": "stream",
     "text": [
      "\n",
      "Attaching package: 'xgboost'\n",
      "\n",
      "\n",
      "The following object is masked from 'package:dplyr':\n",
      "\n",
      "    slice\n",
      "\n",
      "\n"
     ]
    }
   ],
   "source": [
    "library(xgboost)"
   ]
  },
  {
   "cell_type": "code",
   "execution_count": 34,
   "metadata": {},
   "outputs": [],
   "source": [
    "train_x = train_ds[-ncol(train_ds)+1]\n",
    "train_y = train_ds[ncol(train_ds)-1]\n",
    "test_x = val_ds[-ncol(val_ds)+1]\n",
    "test_y = val_ds[ncol(val_ds)-1]"
   ]
  },
  {
   "cell_type": "code",
   "execution_count": 35,
   "metadata": {},
   "outputs": [],
   "source": [
    "depths = seq(1, 10, by=1)"
   ]
  },
  {
   "cell_type": "code",
   "execution_count": 36,
   "metadata": {},
   "outputs": [
    {
     "name": "stdout",
     "output_type": "stream",
     "text": [
      "[21:33:34] WARNING: amalgamation/../src/objective/regression_obj.cu:203: reg:linear is now deprecated in favor of reg:squarederror.\n",
      "[1]\ttrain-rmse:3.145121 \n",
      "[2]\ttrain-rmse:3.115690 \n",
      "[21:33:34] WARNING: amalgamation/../src/objective/regression_obj.cu:203: reg:linear is now deprecated in favor of reg:squarederror.\n",
      "[1]\ttrain-rmse:3.051309 \n",
      "[2]\ttrain-rmse:2.987429 \n",
      "[21:33:34] WARNING: amalgamation/../src/objective/regression_obj.cu:203: reg:linear is now deprecated in favor of reg:squarederror.\n",
      "[1]\ttrain-rmse:2.930422 \n",
      "[2]\ttrain-rmse:2.818468 \n",
      "[21:33:34] WARNING: amalgamation/../src/objective/regression_obj.cu:203: reg:linear is now deprecated in favor of reg:squarederror.\n",
      "[1]\ttrain-rmse:2.774472 \n",
      "[2]\ttrain-rmse:2.649380 \n",
      "[21:33:35] WARNING: amalgamation/../src/objective/regression_obj.cu:203: reg:linear is now deprecated in favor of reg:squarederror.\n",
      "[1]\ttrain-rmse:2.597043 \n",
      "[2]\ttrain-rmse:2.374289 \n",
      "[21:33:35] WARNING: amalgamation/../src/objective/regression_obj.cu:203: reg:linear is now deprecated in favor of reg:squarederror.\n",
      "[1]\ttrain-rmse:2.390902 \n",
      "[2]\ttrain-rmse:2.188023 \n",
      "[21:33:35] WARNING: amalgamation/../src/objective/regression_obj.cu:203: reg:linear is now deprecated in favor of reg:squarederror.\n",
      "[1]\ttrain-rmse:2.215093 \n",
      "[2]\ttrain-rmse:1.967831 \n",
      "[21:33:35] WARNING: amalgamation/../src/objective/regression_obj.cu:203: reg:linear is now deprecated in favor of reg:squarederror.\n",
      "[1]\ttrain-rmse:2.117407 \n",
      "[2]\ttrain-rmse:1.829883 \n",
      "[21:33:35] WARNING: amalgamation/../src/objective/regression_obj.cu:203: reg:linear is now deprecated in favor of reg:squarederror.\n",
      "[1]\ttrain-rmse:2.027294 \n",
      "[2]\ttrain-rmse:1.762111 \n",
      "[21:33:35] WARNING: amalgamation/../src/objective/regression_obj.cu:203: reg:linear is now deprecated in favor of reg:squarederror.\n",
      "[1]\ttrain-rmse:1.958518 \n",
      "[2]\ttrain-rmse:1.588651 \n"
     ]
    }
   ],
   "source": [
    "\n",
    "RMSEs = c()\n",
    "\n",
    "for (i in depths) {\n",
    "    xgb <- xgboost(data = as.matrix(train_x), label = train_y[,1], max.depth = i, eta = 1, nthread = 2, nrounds = 2, objective = \"reg:linear\")\n",
    "    pred = predict(xgb, as.matrix(test_x))\n",
    "    RMSEs = c(RMSEs, rmse(pred, test_y[,1]))\n",
    "}\n"
   ]
  },
  {
   "cell_type": "code",
   "execution_count": 37,
   "metadata": {},
   "outputs": [
    {
     "data": {
      "text/html": [
       "2"
      ],
      "text/latex": [
       "2"
      ],
      "text/markdown": [
       "2"
      ],
      "text/plain": [
       "[1] 2"
      ]
     },
     "metadata": {},
     "output_type": "display_data"
    },
    {
     "data": {
      "image/png": "[encoded data removed]",
      "text/plain": [
       "plot without title"
      ]
     },
     "metadata": {
      "image/png": {
       "height": 420,
       "width": 600
      }
     },
     "output_type": "display_data"
    }
   ],
   "source": [
    "plot(depths, RMSEs, type='l')\n",
    "best_depth = depths[which.min(RMSEs)]\n",
    "best_depth"
   ]
  },
  {
   "cell_type": "code",
   "execution_count": 38,
   "metadata": {},
   "outputs": [
    {
     "name": "stdout",
     "output_type": "stream",
     "text": [
      "[21:33:35] WARNING: amalgamation/../src/objective/regression_obj.cu:203: reg:linear is now deprecated in favor of reg:squarederror.\n",
      "[1]\ttrain-rmse:3.290546 \n",
      "[2]\ttrain-rmse:3.219818 \n"
     ]
    }
   ],
   "source": [
    "train_x = train_data[-ncol(train_data)+1]\n",
    "train_y = train_data[ncol(train_data)-1]\n",
    "\n",
    "xgb <- xgboost(data = as.matrix(train_x), label = train_y[,1], max.depth = best_depth, eta = 1, nthread = 2, nrounds = 2, objective = \"reg:linear\")"
   ]
  },
  {
   "cell_type": "code",
   "execution_count": 39,
   "metadata": {
    "scrolled": true
   },
   "outputs": [
    {
     "data": {
      "text/html": [
       "<table class=\"dataframe\">\n",
       "<caption>A data.table: 3 × 4</caption>\n",
       "<thead>\n",
       "\t<tr><th scope=col>Feature</th><th scope=col>Gain</th><th scope=col>Cover</th><th scope=col>Frequency</th></tr>\n",
       "\t<tr><th scope=col>&lt;chr&gt;</th><th scope=col>&lt;dbl&gt;</th><th scope=col>&lt;dbl&gt;</th><th scope=col>&lt;dbl&gt;</th></tr>\n",
       "</thead>\n",
       "<tbody>\n",
       "\t<tr><td>Bitcoin.Core..BTC..Price</td><td>0.4843882</td><td>0.71088795</td><td>0.5000000</td></tr>\n",
       "\t<tr><td>Google.trends           </td><td>0.4076194</td><td>0.03911205</td><td>0.3333333</td></tr>\n",
       "\t<tr><td>Hash.Rate               </td><td>0.1079924</td><td>0.25000000</td><td>0.1666667</td></tr>\n",
       "</tbody>\n",
       "</table>\n"
      ],
      "text/latex": [
       "A data.table: 3 × 4\n",
       "\\begin{tabular}{llll}\n",
       " Feature & Gain & Cover & Frequency\\\\\n",
       " <chr> & <dbl> & <dbl> & <dbl>\\\\\n",
       "\\hline\n",
       "\t Bitcoin.Core..BTC..Price & 0.4843882 & 0.71088795 & 0.5000000\\\\\n",
       "\t Google.trends            & 0.4076194 & 0.03911205 & 0.3333333\\\\\n",
       "\t Hash.Rate                & 0.1079924 & 0.25000000 & 0.1666667\\\\\n",
       "\\end{tabular}\n"
      ],
      "text/markdown": [
       "\n",
       "A data.table: 3 × 4\n",
       "\n",
       "| Feature &lt;chr&gt; | Gain &lt;dbl&gt; | Cover &lt;dbl&gt; | Frequency &lt;dbl&gt; |\n",
       "|---|---|---|---|\n",
       "| Bitcoin.Core..BTC..Price | 0.4843882 | 0.71088795 | 0.5000000 |\n",
       "| Google.trends            | 0.4076194 | 0.03911205 | 0.3333333 |\n",
       "| Hash.Rate                | 0.1079924 | 0.25000000 | 0.1666667 |\n",
       "\n"
      ],
      "text/plain": [
       "  Feature                  Gain      Cover      Frequency\n",
       "1 Bitcoin.Core..BTC..Price 0.4843882 0.71088795 0.5000000\n",
       "2 Google.trends            0.4076194 0.03911205 0.3333333\n",
       "3 Hash.Rate                0.1079924 0.25000000 0.1666667"
      ]
     },
     "metadata": {},
     "output_type": "display_data"
    }
   ],
   "source": [
    "xgb.importance(model=xgb)"
   ]
  },
  {
   "cell_type": "markdown",
   "metadata": {},
   "source": [
    "# Compare all models"
   ]
  },
  {
   "cell_type": "code",
   "execution_count": 82,
   "metadata": {},
   "outputs": [],
   "source": [
    "train_size = floor(0.75 * nrow(df))\n",
    "train_data = df[1:train_size, ]\n",
    "train_x = train_data[-ncol(train_data)+1]\n",
    "train_y = train_data[ncol(train_data)-1]\n",
    "test_data = df[train_size:nrow(df), ]\n",
    "test_x = test_data[-ncol(test_data)+1]\n",
    "test_y = test_data[ncol(test_data)-1]"
   ]
  },
  {
   "cell_type": "code",
   "execution_count": 83,
   "metadata": {},
   "outputs": [],
   "source": [
    "price_true = df_all$price[train_size:nrow(df_all)]"
   ]
  },
  {
   "cell_type": "code",
   "execution_count": 84,
   "metadata": {},
   "outputs": [
    {
     "data": {
      "text/html": [
       "3.32519469243308"
      ],
      "text/latex": [
       "3.32519469243308"
      ],
      "text/markdown": [
       "3.32519469243308"
      ],
      "text/plain": [
       "[1] 3.325195"
      ]
     },
     "metadata": {},
     "output_type": "display_data"
    }
   ],
   "source": [
    "pred = predict(lmbtc, train_x)\n",
    "rmse(pred, train_y[,1])"
   ]
  },
  {
   "cell_type": "code",
   "execution_count": 85,
   "metadata": {},
   "outputs": [
    {
     "data": {
      "text/html": [
       "4.06898896714563"
      ],
      "text/latex": [
       "4.06898896714563"
      ],
      "text/markdown": [
       "4.06898896714563"
      ],
      "text/plain": [
       "[1] 4.068989"
      ]
     },
     "metadata": {},
     "output_type": "display_data"
    },
    {
     "data": {
      "image/png": "[encoded data removed]",
      "text/plain": [
       "Plot with title \"Linear Regression\""
      ]
     },
     "metadata": {
      "image/png": {
       "height": 420,
       "width": 600
      }
     },
     "output_type": "display_data"
    }
   ],
   "source": [
    "pred = predict(lmbtc, test_x)\n",
    "plot(test_y[,1], type='l', col='green', main=\"Linear Regression\")\n",
    "lines(pred, type=\"l\", col=\"red\")\n",
    "legend(\"bottomright\", legend = c(\"True\", \"Pred\"), lwd = 3, col = c(\"green\", \"red\"))\n",
    "rmse(pred, test_y[,1])"
   ]
  },
  {
   "cell_type": "code",
   "execution_count": 43,
   "metadata": {},
   "outputs": [
    {
     "data": {
      "text/html": [
       "348.091773151821"
      ],
      "text/latex": [
       "348.091773151821"
      ],
      "text/markdown": [
       "348.091773151821"
      ],
      "text/plain": [
       "[1] 348.0918"
      ]
     },
     "metadata": {},
     "output_type": "display_data"
    },
    {
     "data": {
      "image/png": "[encoded data removed]",
      "text/plain": [
       "Plot with title \"Linear Regression\""
      ]
     },
     "metadata": {
      "image/png": {
       "height": 420,
       "width": 600
      }
     },
     "output_type": "display_data"
    }
   ],
   "source": [
    "pred_price = price_true*(100+pred)/100\n",
    "plot(price_true[-1], type='l', col='green', main=\"Linear Regression\")\n",
    "lines(pred_price[-length(pred_price)], type=\"l\", col=\"red\")\n",
    "rmse(price_true[-1],pred_price[-length(pred_price)])\n",
    "legend(\"bottomright\", legend = c(\"True\", \"Pred\"), lwd = 3, col = c(\"green\", \"red\"))"
   ]
  },
  {
   "cell_type": "code",
   "execution_count": null,
   "metadata": {},
   "outputs": [],
   "source": []
  },
  {
   "cell_type": "code",
   "execution_count": 88,
   "metadata": {},
   "outputs": [
    {
     "data": {
      "text/html": [
       "3.39047062716111"
      ],
      "text/latex": [
       "3.39047062716111"
      ],
      "text/markdown": [
       "3.39047062716111"
      ],
      "text/plain": [
       "[1] 3.390471"
      ]
     },
     "metadata": {},
     "output_type": "display_data"
    }
   ],
   "source": [
    "pred = predict(lasso_reg, as.matrix(train_x))\n",
    "rmse(pred, train_y[,1])"
   ]
  },
  {
   "cell_type": "code",
   "execution_count": 89,
   "metadata": {},
   "outputs": [
    {
     "data": {
      "text/html": [
       "3.46298941885647"
      ],
      "text/latex": [
       "3.46298941885647"
      ],
      "text/markdown": [
       "3.46298941885647"
      ],
      "text/plain": [
       "[1] 3.462989"
      ]
     },
     "metadata": {},
     "output_type": "display_data"
    },
    {
     "data": {
      "image/png": "[encoded data removed]",
      "text/plain": [
       "Plot with title \"Lasso\""
      ]
     },
     "metadata": {
      "image/png": {
       "height": 420,
       "width": 600
      }
     },
     "output_type": "display_data"
    }
   ],
   "source": [
    "pred = predict(lasso_reg, as.matrix(test_x))\n",
    "plot(test_y[,1], type='l', col='green', main=\"Lasso\")\n",
    "lines(pred, type=\"l\", col=\"red\")\n",
    "legend(\"bottomright\", legend = c(\"True\", \"Pred\"), lwd = 3, col = c(\"green\", \"red\"))\n",
    "rmse(pred, test_y[,1])"
   ]
  },
  {
   "cell_type": "code",
   "execution_count": 45,
   "metadata": {},
   "outputs": [
    {
     "data": {
      "text/html": [
       "274.037303743273"
      ],
      "text/latex": [
       "274.037303743273"
      ],
      "text/markdown": [
       "274.037303743273"
      ],
      "text/plain": [
       "[1] 274.0373"
      ]
     },
     "metadata": {},
     "output_type": "display_data"
    },
    {
     "data": {
      "image/png": "[encoded data removed]",
      "text/plain": [
       "Plot with title \"Lasso\""
      ]
     },
     "metadata": {
      "image/png": {
       "height": 420,
       "width": 600
      }
     },
     "output_type": "display_data"
    }
   ],
   "source": [
    "pred_price = price_true*(100+pred)/100\n",
    "plot(price_true[-1], type='l', col='green', main=\"Lasso\")\n",
    "lines(pred_price[-length(pred_price)], type=\"l\", col=\"red\")\n",
    "rmse(price_true[-1],pred_price[-length(pred_price)])\n",
    "legend(\"bottomright\", legend = c(\"True\", \"Pred\"), lwd = 3, col = c(\"green\", \"red\"))"
   ]
  },
  {
   "cell_type": "code",
   "execution_count": null,
   "metadata": {},
   "outputs": [],
   "source": []
  },
  {
   "cell_type": "code",
   "execution_count": 90,
   "metadata": {},
   "outputs": [
    {
     "data": {
      "text/html": [
       "3.40675662230752"
      ],
      "text/latex": [
       "3.40675662230752"
      ],
      "text/markdown": [
       "3.40675662230752"
      ],
      "text/plain": [
       "[1] 3.406757"
      ]
     },
     "metadata": {},
     "output_type": "display_data"
    }
   ],
   "source": [
    "pred = predict(ridge_reg, as.matrix(train_x))\n",
    "rmse(pred, train_y[,1])"
   ]
  },
  {
   "cell_type": "code",
   "execution_count": 91,
   "metadata": {},
   "outputs": [
    {
     "data": {
      "text/html": [
       "3.47231064591059"
      ],
      "text/latex": [
       "3.47231064591059"
      ],
      "text/markdown": [
       "3.47231064591059"
      ],
      "text/plain": [
       "[1] 3.472311"
      ]
     },
     "metadata": {},
     "output_type": "display_data"
    },
    {
     "data": {
      "image/png": "[encoded data removed]",
      "text/plain": [
       "Plot with title \"Ridge\""
      ]
     },
     "metadata": {
      "image/png": {
       "height": 420,
       "width": 600
      }
     },
     "output_type": "display_data"
    }
   ],
   "source": [
    "pred = predict(ridge_reg, as.matrix(test_x))\n",
    "plot(test_y[,1], type='l', col='green', main=\"Ridge\")\n",
    "lines(pred, type=\"l\", col=\"red\")\n",
    "legend(\"bottomright\", legend = c(\"True\", \"Pred\"), lwd = 3, col = c(\"green\", \"red\"))\n",
    "rmse(pred, test_y[,1])"
   ]
  },
  {
   "cell_type": "code",
   "execution_count": 47,
   "metadata": {},
   "outputs": [
    {
     "data": {
      "text/html": [
       "274.752962841024"
      ],
      "text/latex": [
       "274.752962841024"
      ],
      "text/markdown": [
       "274.752962841024"
      ],
      "text/plain": [
       "[1] 274.753"
      ]
     },
     "metadata": {},
     "output_type": "display_data"
    },
    {
     "data": {
      "image/png": "[encoded data removed]",
      "text/plain": [
       "Plot with title \"Ridge\""
      ]
     },
     "metadata": {
      "image/png": {
       "height": 420,
       "width": 600
      }
     },
     "output_type": "display_data"
    }
   ],
   "source": [
    "pred_price = price_true*(100+pred)/100\n",
    "plot(price_true[-1], type='l', col='green', main=\"Ridge\")\n",
    "lines(pred_price[-length(pred_price)], type=\"l\", col=\"red\")\n",
    "rmse(price_true[-1],pred_price[-length(pred_price)])\n",
    "legend(\"bottomright\", legend = c(\"True\", \"Pred\"), lwd = 3, col = c(\"green\", \"red\"))"
   ]
  },
  {
   "cell_type": "code",
   "execution_count": null,
   "metadata": {},
   "outputs": [],
   "source": []
  },
  {
   "cell_type": "code",
   "execution_count": 92,
   "metadata": {},
   "outputs": [
    {
     "data": {
      "text/html": [
       "3.38485934157876"
      ],
      "text/latex": [
       "3.38485934157876"
      ],
      "text/markdown": [
       "3.38485934157876"
      ],
      "text/plain": [
       "[1] 3.384859"
      ]
     },
     "metadata": {},
     "output_type": "display_data"
    }
   ],
   "source": [
    "pred = predict(reg, as.matrix(train_x))\n",
    "rmse(pred, train_y[,1])"
   ]
  },
  {
   "cell_type": "code",
   "execution_count": 93,
   "metadata": {},
   "outputs": [
    {
     "data": {
      "text/html": [
       "3.45873280821366"
      ],
      "text/latex": [
       "3.45873280821366"
      ],
      "text/markdown": [
       "3.45873280821366"
      ],
      "text/plain": [
       "[1] 3.458733"
      ]
     },
     "metadata": {},
     "output_type": "display_data"
    },
    {
     "data": {
      "image/png": "[encoded data removed]",
      "text/plain": [
       "Plot with title \"ElasticNet\""
      ]
     },
     "metadata": {
      "image/png": {
       "height": 420,
       "width": 600
      }
     },
     "output_type": "display_data"
    }
   ],
   "source": [
    "pred = predict(reg, as.matrix(test_x))\n",
    "plot(test_y[,1], type='l', col='green', main=\"ElasticNet\")\n",
    "lines(pred, type=\"l\", col=\"red\")\n",
    "legend(\"bottomright\", legend = c(\"True\", \"Pred\"), lwd = 3, col = c(\"green\", \"red\"))\n",
    "rmse(pred, test_y[,1])"
   ]
  },
  {
   "cell_type": "code",
   "execution_count": null,
   "metadata": {},
   "outputs": [],
   "source": []
  },
  {
   "cell_type": "code",
   "execution_count": null,
   "metadata": {},
   "outputs": [],
   "source": []
  },
  {
   "cell_type": "code",
   "execution_count": 49,
   "metadata": {},
   "outputs": [
    {
     "data": {
      "text/html": [
       "273.657351997287"
      ],
      "text/latex": [
       "273.657351997287"
      ],
      "text/markdown": [
       "273.657351997287"
      ],
      "text/plain": [
       "[1] 273.6574"
      ]
     },
     "metadata": {},
     "output_type": "display_data"
    },
    {
     "data": {
      "image/png": "[encoded data removed]",
      "text/plain": [
       "Plot with title \"ElasticNet\""
      ]
     },
     "metadata": {
      "image/png": {
       "height": 420,
       "width": 600
      }
     },
     "output_type": "display_data"
    }
   ],
   "source": [
    "pred_price = price_true*(100+pred)/100\n",
    "plot(price_true[-1], type='l', col='green', main=\"ElasticNet\")\n",
    "lines(pred_price[-length(pred_price)], type=\"l\", col=\"red\")\n",
    "rmse(price_true[-1],pred_price[-length(pred_price)])\n",
    "legend(\"bottomright\", legend = c(\"True\", \"Pred\"), lwd = 3, col = c(\"green\", \"red\"))"
   ]
  },
  {
   "cell_type": "code",
   "execution_count": null,
   "metadata": {},
   "outputs": [],
   "source": []
  },
  {
   "cell_type": "code",
   "execution_count": null,
   "metadata": {},
   "outputs": [],
   "source": []
  },
  {
   "cell_type": "code",
   "execution_count": 94,
   "metadata": {},
   "outputs": [
    {
     "data": {
      "text/html": [
       "2.33598904946283"
      ],
      "text/latex": [
       "2.33598904946283"
      ],
      "text/markdown": [
       "2.33598904946283"
      ],
      "text/plain": [
       "[1] 2.335989"
      ]
     },
     "metadata": {},
     "output_type": "display_data"
    }
   ],
   "source": [
    "pred = predict(rf, as.matrix(train_x))\n",
    "rmse(pred, train_y[,1])"
   ]
  },
  {
   "cell_type": "code",
   "execution_count": 95,
   "metadata": {},
   "outputs": [
    {
     "data": {
      "text/html": [
       "3.46576480644731"
      ],
      "text/latex": [
       "3.46576480644731"
      ],
      "text/markdown": [
       "3.46576480644731"
      ],
      "text/plain": [
       "[1] 3.465765"
      ]
     },
     "metadata": {},
     "output_type": "display_data"
    },
    {
     "data": {
      "image/png": "[encoded data removed]",
      "text/plain": [
       "Plot with title \"Random Forest\""
      ]
     },
     "metadata": {
      "image/png": {
       "height": 420,
       "width": 600
      }
     },
     "output_type": "display_data"
    }
   ],
   "source": [
    "pred = predict(rf, as.matrix(test_x))\n",
    "plot(test_y[,1], type='l', col='green', main=\"Random Forest\")\n",
    "lines(pred, type=\"l\", col=\"red\")\n",
    "legend(\"bottomright\", legend = c(\"True\", \"Pred\"), lwd = 3, col = c(\"green\", \"red\"))\n",
    "rmse(pred, test_y[,1])"
   ]
  },
  {
   "cell_type": "code",
   "execution_count": 51,
   "metadata": {},
   "outputs": [
    {
     "data": {
      "text/html": [
       "273.295964027817"
      ],
      "text/latex": [
       "273.295964027817"
      ],
      "text/markdown": [
       "273.295964027817"
      ],
      "text/plain": [
       "[1] 273.296"
      ]
     },
     "metadata": {},
     "output_type": "display_data"
    },
    {
     "data": {
      "image/png": "[encoded data removed]",
      "text/plain": [
       "Plot with title \"Random Forest\""
      ]
     },
     "metadata": {
      "image/png": {
       "height": 420,
       "width": 600
      }
     },
     "output_type": "display_data"
    }
   ],
   "source": [
    "pred_price = price_true*(100+pred)/100\n",
    "plot(price_true[-1], type='l', col='green', main=\"Random Forest\")\n",
    "lines(pred_price[-length(pred_price)], type=\"l\", col=\"red\")\n",
    "rmse(price_true[-1],pred_price[-length(pred_price)])\n",
    "legend(\"bottomright\", legend = c(\"True\", \"Pred\"), lwd = 3, col = c(\"green\", \"red\"))"
   ]
  },
  {
   "cell_type": "code",
   "execution_count": null,
   "metadata": {},
   "outputs": [],
   "source": []
  },
  {
   "cell_type": "code",
   "execution_count": null,
   "metadata": {},
   "outputs": [],
   "source": []
  },
  {
   "cell_type": "code",
   "execution_count": 96,
   "metadata": {},
   "outputs": [
    {
     "data": {
      "text/html": [
       "3.21981825710178"
      ],
      "text/latex": [
       "3.21981825710178"
      ],
      "text/markdown": [
       "3.21981825710178"
      ],
      "text/plain": [
       "[1] 3.219818"
      ]
     },
     "metadata": {},
     "output_type": "display_data"
    }
   ],
   "source": [
    "pred = predict(xgb, as.matrix(train_x))\n",
    "rmse(pred, train_y[,1])"
   ]
  },
  {
   "cell_type": "code",
   "execution_count": 52,
   "metadata": {},
   "outputs": [
    {
     "data": {
      "text/html": [
       "3.46461248424296"
      ],
      "text/latex": [
       "3.46461248424296"
      ],
      "text/markdown": [
       "3.46461248424296"
      ],
      "text/plain": [
       "[1] 3.464612"
      ]
     },
     "metadata": {},
     "output_type": "display_data"
    },
    {
     "data": {
      "image/png": "[encoded data removed]",
      "text/plain": [
       "Plot with title \"XGBoost\""
      ]
     },
     "metadata": {
      "image/png": {
       "height": 420,
       "width": 600
      }
     },
     "output_type": "display_data"
    }
   ],
   "source": [
    "pred = predict(xgb, as.matrix(test_x))\n",
    "plot(test_y[,1], type='l', col='green', main=\"XGBoost\")\n",
    "lines(pred, type=\"l\", col=\"red\")\n",
    "legend(\"bottomright\", legend = c(\"True\", \"Pred\"), lwd = 3, col = c(\"green\", \"red\"))\n",
    "rmse(pred, test_y[,1])"
   ]
  },
  {
   "cell_type": "code",
   "execution_count": 53,
   "metadata": {},
   "outputs": [
    {
     "data": {
      "text/html": [
       "275.133955294438"
      ],
      "text/latex": [
       "275.133955294438"
      ],
      "text/markdown": [
       "275.133955294438"
      ],
      "text/plain": [
       "[1] 275.134"
      ]
     },
     "metadata": {},
     "output_type": "display_data"
    },
    {
     "data": {
      "image/png": "[encoded data removed]",
      "text/plain": [
       "Plot with title \"XGB\""
      ]
     },
     "metadata": {
      "image/png": {
       "height": 420,
       "width": 600
      }
     },
     "output_type": "display_data"
    }
   ],
   "source": [
    "pred_price = price_true*(100+pred)/100\n",
    "plot(price_true[-1], type='l', col='green', main=\"XGB\")\n",
    "lines(pred_price[-length(pred_price)], type=\"l\", col=\"red\")\n",
    "rmse(price_true[-1],pred_price[-length(pred_price)])\n",
    "legend(\"bottomright\", legend = c(\"True\", \"Pred\"), lwd = 3, col = c(\"green\", \"red\"))"
   ]
  },
  {
   "cell_type": "markdown",
   "metadata": {},
   "source": [
    "# Classification"
   ]
  },
  {
   "cell_type": "code",
   "execution_count": 97,
   "metadata": {},
   "outputs": [],
   "source": [
    "cls_df = df\n",
    "cls_df$label = as.factor(sign(cls_df$label))\n",
    "cls_df$Bitcoin.Core..BTC..Price = as.factor(sign(cls_df$Bitcoin.Core..BTC..Price))"
   ]
  },
  {
   "cell_type": "code",
   "execution_count": 98,
   "metadata": {},
   "outputs": [],
   "source": [
    "train_size = floor(0.75 * nrow(cls_df))\n",
    "train_data = cls_df[1:train_size, ]\n",
    "test_data = cls_df[train_size:nrow(cls_df), ]"
   ]
  },
  {
   "cell_type": "code",
   "execution_count": 99,
   "metadata": {},
   "outputs": [],
   "source": [
    "train_size = floor(0.75 * nrow(train_data))\n",
    "train_ds = train_data[1:train_size, ]\n",
    "val_ds = train_data[train_size:nrow(train_data), ]"
   ]
  },
  {
   "cell_type": "markdown",
   "metadata": {},
   "source": [
    "# Logistic regression"
   ]
  },
  {
   "cell_type": "code",
   "execution_count": 100,
   "metadata": {},
   "outputs": [],
   "source": [
    "log_reg = glm(label ~., family=binomial(link='logit'), data=train_data)"
   ]
  },
  {
   "cell_type": "code",
   "execution_count": 101,
   "metadata": {},
   "outputs": [
    {
     "data": {
      "text/plain": [
       "\n",
       "Call:\n",
       "glm(formula = label ~ ., family = binomial(link = \"logit\"), data = train_data)\n",
       "\n",
       "Deviance Residuals: \n",
       "    Min       1Q   Median       3Q      Max  \n",
       "-1.8129  -1.2209   0.8823   1.0779   1.5594  \n",
       "\n",
       "Coefficients:\n",
       "                            Estimate Std. Error z value Pr(>|z|)   \n",
       "(Intercept)                1.612e-01  4.588e-01   0.351  0.72535   \n",
       "Annual.Hash.Growth         2.582e+00  2.154e+00   1.199  0.23068   \n",
       "Block.Height              -7.824e+02  1.719e+03  -0.455  0.64901   \n",
       "Block.Interval             1.427e+00  8.259e-01   1.727  0.08413 . \n",
       "Block.Size                -1.070e+00  7.219e-01  -1.482  0.13841   \n",
       "Daily.Transactions         7.125e-01  7.402e-01   0.963  0.33571   \n",
       "Difficulty                -3.303e-02  9.428e-01  -0.035  0.97205   \n",
       "Fee.Percentage             2.381e-01  2.305e-01   1.033  0.30163   \n",
       "Fee.Rate                  -6.133e-01  3.163e-01  -1.939  0.05248 . \n",
       "Two.Week.Hash.Growth       5.274e-04  5.702e-03   0.092  0.92631   \n",
       "Hash.Rate                  2.957e+00  4.694e+00   0.630  0.52880   \n",
       "Inflation.Rate            -1.488e+02  6.625e+01  -2.247  0.02465 * \n",
       "Price.Volatility           5.064e-01  7.349e-01   0.689  0.49078   \n",
       "Bitcoin.Core..BTC..Price1  2.695e-01  1.112e-01   2.424  0.01534 * \n",
       "Quarterly.Hash.Growth     -3.975e-02  5.275e-02  -0.754  0.45108   \n",
       "Total.Transactions         9.175e+01  2.191e+02   0.419  0.67540   \n",
       "Transaction.Size           1.722e-01  1.918e-01   0.898  0.36908   \n",
       "Avg..UTXO.Amount           1.571e+01  1.480e+01   1.061  0.28865   \n",
       "Velocity...Daily           5.256e-01  2.667e-01   1.971  0.04873 * \n",
       "Velocity...Quarterly      -1.352e+01  7.344e+00  -1.841  0.06565 . \n",
       "Velocity.of.Money          2.108e+01  1.690e+01   1.247  0.21221   \n",
       "DIA.US.Index               8.530e+00  7.134e+00   1.196  0.23186   \n",
       "CNYUSD.Curncy             -7.319e+01  2.539e+01  -2.883  0.00394 **\n",
       "EURUSD.Curncy              6.528e+00  1.062e+01   0.615  0.53871   \n",
       "GDX.US.Equity              3.735e+00  2.502e+00   1.493  0.13547   \n",
       "SHCOMP.Index              -1.475e+00  3.785e+00  -0.390  0.69671   \n",
       "TWSE.Index                -2.998e+00  7.190e+00  -0.417  0.67667   \n",
       "ADS_Index                 -7.043e-03  1.198e-02  -0.588  0.55671   \n",
       "Google.trends             -2.629e-01  2.615e-01  -1.005  0.31472   \n",
       "Lumber.prices             -3.719e+00  3.130e+00  -1.188  0.23467   \n",
       "WTI.Oil                    1.768e+00  2.477e+00   0.714  0.47548   \n",
       "Sentiment.Score           -1.246e-03  8.225e-03  -0.152  0.87957   \n",
       "std_BTC_returns           -3.719e-02  3.076e-02  -1.209  0.22667   \n",
       "---\n",
       "Signif. codes:  0 '***' 0.001 '**' 0.01 '*' 0.05 '.' 0.1 ' ' 1\n",
       "\n",
       "(Dispersion parameter for binomial family taken to be 1)\n",
       "\n",
       "    Null deviance: 1950.6  on 1418  degrees of freedom\n",
       "Residual deviance: 1900.6  on 1386  degrees of freedom\n",
       "AIC: 1966.6\n",
       "\n",
       "Number of Fisher Scoring iterations: 4\n"
      ]
     },
     "metadata": {},
     "output_type": "display_data"
    }
   ],
   "source": [
    "summary(log_reg)"
   ]
  },
  {
   "cell_type": "markdown",
   "metadata": {},
   "source": [
    "# SVM"
   ]
  },
  {
   "cell_type": "code",
   "execution_count": 102,
   "metadata": {},
   "outputs": [],
   "source": [
    "library(e1071)"
   ]
  },
  {
   "cell_type": "code",
   "execution_count": 103,
   "metadata": {},
   "outputs": [],
   "source": [
    "train_x = train_ds[-ncol(train_ds)+1]\n",
    "train_y = train_ds[ncol(train_ds)-1]\n",
    "test_x = val_ds[-ncol(val_ds)+1]\n",
    "test_y = val_ds[ncol(val_ds)-1]"
   ]
  },
  {
   "cell_type": "code",
   "execution_count": 104,
   "metadata": {},
   "outputs": [],
   "source": [
    "costs = seq(1,21, by=3)\n",
    "miss = c()\n",
    "\n",
    "for (i in costs) {\n",
    "    svmfit = svm(label ~ ., data = train_data, kernel = \"linear\", cost = i, scale = FALSE)\n",
    "    pred = predict(svmfit, train_x)\n",
    "    miss = c(miss, mean(pred != test_y[,1]))\n",
    "}\n"
   ]
  },
  {
   "cell_type": "code",
   "execution_count": 105,
   "metadata": {},
   "outputs": [
    {
     "data": {
      "image/png": "[encoded data removed]",
      "text/plain": [
       "plot without title"
      ]
     },
     "metadata": {
      "image/png": {
       "height": 420,
       "width": 600
      }
     },
     "output_type": "display_data"
    }
   ],
   "source": [
    "plot(costs, miss, type='l')\n",
    "best_cost = costs[which.min(miss)]"
   ]
  },
  {
   "cell_type": "code",
   "execution_count": 106,
   "metadata": {},
   "outputs": [],
   "source": [
    "train_x = train_data[-ncol(train_data)+1]\n",
    "train_y = train_data[ncol(train_data)-1]\n",
    "\n",
    "svmfit = svm(label ~ ., data = train_data, kernel = \"linear\", cost = best_cost, scale = FALSE)"
   ]
  },
  {
   "cell_type": "markdown",
   "metadata": {},
   "source": [
    "# KNN"
   ]
  },
  {
   "cell_type": "code",
   "execution_count": 107,
   "metadata": {},
   "outputs": [],
   "source": [
    "library(class)"
   ]
  },
  {
   "cell_type": "code",
   "execution_count": 108,
   "metadata": {},
   "outputs": [],
   "source": [
    "train_x = train_ds[-ncol(train_ds)+1]\n",
    "train_y = train_ds[ncol(train_ds)-1]\n",
    "test_x = val_ds[-ncol(val_ds)+1]\n",
    "test_y = val_ds[ncol(val_ds)-1]"
   ]
  },
  {
   "cell_type": "code",
   "execution_count": 109,
   "metadata": {},
   "outputs": [],
   "source": [
    "ks = seq(5, 100, by=3)\n",
    "miss = c()\n",
    "for (i in ks) {\n",
    "    knn.pred = knn(train_ds, val_ds, train_y[,1], k=i)\n",
    "    miss = c(miss, mean(knn.pred != test_y[,1]))\n",
    "}\n",
    "    "
   ]
  },
  {
   "cell_type": "code",
   "execution_count": 110,
   "metadata": {},
   "outputs": [
    {
     "data": {
      "text/html": [
       "47"
      ],
      "text/latex": [
       "47"
      ],
      "text/markdown": [
       "47"
      ],
      "text/plain": [
       "[1] 47"
      ]
     },
     "metadata": {},
     "output_type": "display_data"
    },
    {
     "data": {
      "image/png": "[encoded data removed]",
      "text/plain": [
       "plot without title"
      ]
     },
     "metadata": {
      "image/png": {
       "height": 420,
       "width": 600
      }
     },
     "output_type": "display_data"
    }
   ],
   "source": [
    "plot(ks, miss, type='l')\n",
    "best_k = ks[which.min(miss)]\n",
    "best_k"
   ]
  },
  {
   "cell_type": "markdown",
   "metadata": {},
   "source": [
    "# XGBoost Cls"
   ]
  },
  {
   "cell_type": "code",
   "execution_count": 111,
   "metadata": {},
   "outputs": [],
   "source": [
    "# train_x = train_ds[-ncol(train_ds)+1]\n",
    "# train_y = train_ds[ncol(train_ds)-1]\n",
    "# test_x = val_ds[-ncol(val_ds)+1]\n",
    "# test_y = val_ds[ncol(val_ds)-1]"
   ]
  },
  {
   "cell_type": "code",
   "execution_count": 112,
   "metadata": {},
   "outputs": [],
   "source": [
    "# depths = seq(1, 10, by=1)\n",
    "# RMSEs = c()\n",
    "\n",
    "# for (i in depths) {\n",
    "#     dtrain <- xgb.DMatrix(data = as.matrix(train_x), label = train_y[,1])\n",
    "#     xgb <- xgboost(dtrain, max.depth = i, eta = 1, nthread = 2, nrounds = 2, objective = \"binary:logistic\")\n",
    "#     pred = predict(xgb, as.matrix(test_x))\n",
    "#     RMSEs = c(RMSEs, rmse(pred, test_y[,1]))\n",
    "# }"
   ]
  },
  {
   "cell_type": "code",
   "execution_count": 113,
   "metadata": {},
   "outputs": [],
   "source": [
    "# ?xgboost"
   ]
  },
  {
   "cell_type": "markdown",
   "metadata": {},
   "source": [
    "# Compare"
   ]
  },
  {
   "cell_type": "code",
   "execution_count": 114,
   "metadata": {},
   "outputs": [],
   "source": [
    "test_x = test_data[-ncol(test_data)+1]\n",
    "test_y = test_data[ncol(test_data)-1]"
   ]
  },
  {
   "cell_type": "code",
   "execution_count": 115,
   "metadata": {},
   "outputs": [],
   "source": [
    "prob = predict(log_reg, test_x, type='response')\n",
    "threshold = 0.3"
   ]
  },
  {
   "cell_type": "code",
   "execution_count": 120,
   "metadata": {},
   "outputs": [
    {
     "data": {
      "text/html": [
       "<span style=white-space:pre-wrap>'Accuracy:  0.569548872180451'</span>"
      ],
      "text/latex": [
       "'Accuracy:  0.569548872180451'"
      ],
      "text/markdown": [
       "<span style=white-space:pre-wrap>'Accuracy:  0.569548872180451'</span>"
      ],
      "text/plain": [
       "[1] \"Accuracy:  0.569548872180451\""
      ]
     },
     "metadata": {},
     "output_type": "display_data"
    }
   ],
   "source": [
    "prob1 = predict(log_reg, train_x, type='response')\n",
    "y_hat = ifelse(prob > threshold, 1, 0)\n",
    "error = mean(y_hat != train_y)\n",
    "acc = 1 - error\n",
    "\n",
    "# paste(tp, fn)\n",
    "# print results\n",
    "paste('Accuracy: ', acc)"
   ]
  },
  {
   "cell_type": "code",
   "execution_count": 116,
   "metadata": {},
   "outputs": [],
   "source": [
    "y_hat = ifelse(prob > threshold, 1, 0)"
   ]
  },
  {
   "cell_type": "code",
   "execution_count": 117,
   "metadata": {},
   "outputs": [
    {
     "data": {
      "text/html": [
       "<span style=white-space:pre-wrap>'Accuracy:  0.493670886075949'</span>"
      ],
      "text/latex": [
       "'Accuracy:  0.493670886075949'"
      ],
      "text/markdown": [
       "<span style=white-space:pre-wrap>'Accuracy:  0.493670886075949'</span>"
      ],
      "text/plain": [
       "[1] \"Accuracy:  0.493670886075949\""
      ]
     },
     "metadata": {},
     "output_type": "display_data"
    },
    {
     "data": {
      "text/html": [
       "'True Positive Rate: 0.975'"
      ],
      "text/latex": [
       "'True Positive Rate: 0.975'"
      ],
      "text/markdown": [
       "'True Positive Rate: 0.975'"
      ],
      "text/plain": [
       "[1] \"True Positive Rate: 0.975\""
      ]
     },
     "metadata": {},
     "output_type": "display_data"
    },
    {
     "data": {
      "text/html": [
       "'True Negative Rate: 0'"
      ],
      "text/latex": [
       "'True Negative Rate: 0'"
      ],
      "text/markdown": [
       "'True Negative Rate: 0'"
      ],
      "text/plain": [
       "[1] \"True Negative Rate: 0\""
      ]
     },
     "metadata": {},
     "output_type": "display_data"
    }
   ],
   "source": [
    "tp = sum(y_hat == test_y & y_hat == 1)\n",
    "tn = sum(y_hat == test_y & y_hat == 0)\n",
    "fp = sum(y_hat != test_y & y_hat == 1)\n",
    "fn = sum(y_hat != test_y & y_hat == 0)\n",
    "\n",
    "# calculate evaluation metrics\n",
    "error = mean(y_hat != test_y)\n",
    "acc = 1 - error\n",
    "\n",
    "# paste(tp, fn)\n",
    "# print results\n",
    "paste('Accuracy: ', acc)\n",
    "paste('True Positive Rate:', tp/(tp+fn))\n",
    "paste('True Negative Rate:', tn/(tn+fp))"
   ]
  },
  {
   "cell_type": "code",
   "execution_count": 75,
   "metadata": {},
   "outputs": [],
   "source": [
    "# svm"
   ]
  },
  {
   "cell_type": "code",
   "execution_count": 121,
   "metadata": {},
   "outputs": [
    {
     "data": {
      "text/html": [
       "0.579887218045113"
      ],
      "text/latex": [
       "0.579887218045113"
      ],
      "text/markdown": [
       "0.579887218045113"
      ],
      "text/plain": [
       "[1] 0.5798872"
      ]
     },
     "metadata": {},
     "output_type": "display_data"
    }
   ],
   "source": [
    "pred = predict(svmfit, train_x)\n",
    "acc = mean(pred == train_y[,1])\n",
    "acc"
   ]
  },
  {
   "cell_type": "code",
   "execution_count": null,
   "metadata": {},
   "outputs": [],
   "source": [
    "pred = predict(svmfit, test_x)"
   ]
  },
  {
   "cell_type": "code",
   "execution_count": 77,
   "metadata": {},
   "outputs": [
    {
     "data": {
      "text/html": [
       "0.49789029535865"
      ],
      "text/latex": [
       "0.49789029535865"
      ],
      "text/markdown": [
       "0.49789029535865"
      ],
      "text/plain": [
       "[1] 0.4978903"
      ]
     },
     "metadata": {},
     "output_type": "display_data"
    }
   ],
   "source": [
    "acc = mean(pred == test_y[,1])\n",
    "acc"
   ]
  },
  {
   "cell_type": "code",
   "execution_count": 78,
   "metadata": {},
   "outputs": [],
   "source": [
    "# KNN"
   ]
  },
  {
   "cell_type": "code",
   "execution_count": 79,
   "metadata": {},
   "outputs": [
    {
     "data": {
      "text/html": [
       "0.987341772151899"
      ],
      "text/latex": [
       "0.987341772151899"
      ],
      "text/markdown": [
       "0.987341772151899"
      ],
      "text/plain": [
       "[1] 0.9873418"
      ]
     },
     "metadata": {},
     "output_type": "display_data"
    }
   ],
   "source": [
    "knn.pred = knn(train_data, test_data, train_data[ncol(train_data)-1][,1], k=best_k)\n",
    "acc = mean(knn.pred == test_y[,1])\n",
    "acc"
   ]
  },
  {
   "cell_type": "code",
   "execution_count": 118,
   "metadata": {},
   "outputs": [
    {
     "data": {
      "text/html": [
       "47"
      ],
      "text/latex": [
       "47"
      ],
      "text/markdown": [
       "47"
      ],
      "text/plain": [
       "[1] 47"
      ]
     },
     "metadata": {},
     "output_type": "display_data"
    }
   ],
   "source": [
    "best_k"
   ]
  },
  {
   "cell_type": "raw",
   "metadata": {},
   "source": [
    "# "
   ]
  }
 ],
 "metadata": {
  "kernelspec": {
   "display_name": "R",
   "language": "R",
   "name": "ir"
  },
  "language_info": {
   "codemirror_mode": "r",
   "file_extension": ".r",
   "mimetype": "text/x-r-source",
   "name": "R",
   "pygments_lexer": "r",
   "version": "4.1.3"
  }
 },
 "nbformat": 4,
 "nbformat_minor": 4
}
